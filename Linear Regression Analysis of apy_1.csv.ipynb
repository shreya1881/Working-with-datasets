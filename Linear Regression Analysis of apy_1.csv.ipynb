{
 "cells": [
  {
   "cell_type": "code",
   "execution_count": 1,
   "id": "96f886cf",
   "metadata": {},
   "outputs": [
    {
     "data": {
      "text/html": [
       "<div>\n",
       "<style scoped>\n",
       "    .dataframe tbody tr th:only-of-type {\n",
       "        vertical-align: middle;\n",
       "    }\n",
       "\n",
       "    .dataframe tbody tr th {\n",
       "        vertical-align: top;\n",
       "    }\n",
       "\n",
       "    .dataframe thead th {\n",
       "        text-align: right;\n",
       "    }\n",
       "</style>\n",
       "<table border=\"1\" class=\"dataframe\">\n",
       "  <thead>\n",
       "    <tr style=\"text-align: right;\">\n",
       "      <th></th>\n",
       "      <th>Unnamed: 0</th>\n",
       "      <th>State_Name</th>\n",
       "      <th>District_Name</th>\n",
       "      <th>Crop_Year</th>\n",
       "      <th>Season</th>\n",
       "      <th>Crop</th>\n",
       "      <th>Area</th>\n",
       "      <th>Production</th>\n",
       "    </tr>\n",
       "  </thead>\n",
       "  <tbody>\n",
       "    <tr>\n",
       "      <th>0</th>\n",
       "      <td>0</td>\n",
       "      <td>Bihar</td>\n",
       "      <td>NALANDA</td>\n",
       "      <td>1997</td>\n",
       "      <td>Rabi</td>\n",
       "      <td>Wheat</td>\n",
       "      <td>81934.00</td>\n",
       "      <td>160425.00</td>\n",
       "    </tr>\n",
       "    <tr>\n",
       "      <th>1</th>\n",
       "      <td>1</td>\n",
       "      <td>Assam</td>\n",
       "      <td>KARBI ANGLONG</td>\n",
       "      <td>2011</td>\n",
       "      <td>Whole Year</td>\n",
       "      <td>Onion</td>\n",
       "      <td>257.00</td>\n",
       "      <td>514.00</td>\n",
       "    </tr>\n",
       "    <tr>\n",
       "      <th>2</th>\n",
       "      <td>2</td>\n",
       "      <td>Gujarat</td>\n",
       "      <td>ANAND</td>\n",
       "      <td>2012</td>\n",
       "      <td>Summer</td>\n",
       "      <td>Maize</td>\n",
       "      <td>100.00</td>\n",
       "      <td>100.00</td>\n",
       "    </tr>\n",
       "    <tr>\n",
       "      <th>3</th>\n",
       "      <td>3</td>\n",
       "      <td>Karnataka</td>\n",
       "      <td>UTTAR KANNAD</td>\n",
       "      <td>2005</td>\n",
       "      <td>Rabi</td>\n",
       "      <td>Groundnut</td>\n",
       "      <td>2872.00</td>\n",
       "      <td>4572.00</td>\n",
       "    </tr>\n",
       "    <tr>\n",
       "      <th>4</th>\n",
       "      <td>4</td>\n",
       "      <td>Uttar Pradesh</td>\n",
       "      <td>JAUNPUR</td>\n",
       "      <td>2008</td>\n",
       "      <td>Rabi</td>\n",
       "      <td>Onion</td>\n",
       "      <td>110.00</td>\n",
       "      <td>1290.00</td>\n",
       "    </tr>\n",
       "    <tr>\n",
       "      <th>...</th>\n",
       "      <td>...</td>\n",
       "      <td>...</td>\n",
       "      <td>...</td>\n",
       "      <td>...</td>\n",
       "      <td>...</td>\n",
       "      <td>...</td>\n",
       "      <td>...</td>\n",
       "      <td>...</td>\n",
       "    </tr>\n",
       "    <tr>\n",
       "      <th>73822</th>\n",
       "      <td>73822</td>\n",
       "      <td>Bihar</td>\n",
       "      <td>BUXAR</td>\n",
       "      <td>2004</td>\n",
       "      <td>Whole Year</td>\n",
       "      <td>Onion</td>\n",
       "      <td>203.00</td>\n",
       "      <td>1918.00</td>\n",
       "    </tr>\n",
       "    <tr>\n",
       "      <th>73823</th>\n",
       "      <td>73823</td>\n",
       "      <td>Madhya Pradesh</td>\n",
       "      <td>RAJGARH</td>\n",
       "      <td>2013</td>\n",
       "      <td>Kharif</td>\n",
       "      <td>Bajra</td>\n",
       "      <td>12.00</td>\n",
       "      <td>11.00</td>\n",
       "    </tr>\n",
       "    <tr>\n",
       "      <th>73824</th>\n",
       "      <td>73824</td>\n",
       "      <td>Madhya Pradesh</td>\n",
       "      <td>RAJGARH</td>\n",
       "      <td>1998</td>\n",
       "      <td>Kharif</td>\n",
       "      <td>Groundnut</td>\n",
       "      <td>8700.00</td>\n",
       "      <td>9100.00</td>\n",
       "    </tr>\n",
       "    <tr>\n",
       "      <th>73825</th>\n",
       "      <td>73825</td>\n",
       "      <td>Rajasthan</td>\n",
       "      <td>TONK</td>\n",
       "      <td>2000</td>\n",
       "      <td>Kharif</td>\n",
       "      <td>Bajra</td>\n",
       "      <td>34477.00</td>\n",
       "      <td>20137.00</td>\n",
       "    </tr>\n",
       "    <tr>\n",
       "      <th>73826</th>\n",
       "      <td>73826</td>\n",
       "      <td>Jharkhand</td>\n",
       "      <td>KODERMA</td>\n",
       "      <td>2002</td>\n",
       "      <td>Winter</td>\n",
       "      <td>Rice</td>\n",
       "      <td>14685.71</td>\n",
       "      <td>18552.95</td>\n",
       "    </tr>\n",
       "  </tbody>\n",
       "</table>\n",
       "<p>73827 rows × 8 columns</p>\n",
       "</div>"
      ],
      "text/plain": [
       "       Unnamed: 0      State_Name  District_Name  Crop_Year       Season  \\\n",
       "0               0           Bihar        NALANDA       1997  Rabi          \n",
       "1               1           Assam  KARBI ANGLONG       2011  Whole Year    \n",
       "2               2         Gujarat          ANAND       2012  Summer        \n",
       "3               3       Karnataka   UTTAR KANNAD       2005  Rabi          \n",
       "4               4   Uttar Pradesh        JAUNPUR       2008  Rabi          \n",
       "...           ...             ...            ...        ...          ...   \n",
       "73822       73822           Bihar          BUXAR       2004  Whole Year    \n",
       "73823       73823  Madhya Pradesh        RAJGARH       2013  Kharif        \n",
       "73824       73824  Madhya Pradesh        RAJGARH       1998  Kharif        \n",
       "73825       73825       Rajasthan           TONK       2000  Kharif        \n",
       "73826       73826       Jharkhand        KODERMA       2002  Winter        \n",
       "\n",
       "            Crop      Area  Production  \n",
       "0          Wheat  81934.00   160425.00  \n",
       "1          Onion    257.00      514.00  \n",
       "2          Maize    100.00      100.00  \n",
       "3      Groundnut   2872.00     4572.00  \n",
       "4          Onion    110.00     1290.00  \n",
       "...          ...       ...         ...  \n",
       "73822      Onion    203.00     1918.00  \n",
       "73823      Bajra     12.00       11.00  \n",
       "73824  Groundnut   8700.00     9100.00  \n",
       "73825      Bajra  34477.00    20137.00  \n",
       "73826       Rice  14685.71    18552.95  \n",
       "\n",
       "[73827 rows x 8 columns]"
      ]
     },
     "execution_count": 1,
     "metadata": {},
     "output_type": "execute_result"
    }
   ],
   "source": [
    "import warnings\n",
    "warnings.filterwarnings('ignore')\n",
    "import numpy as np\n",
    "import pandas as pd\n",
    "df=pd.read_csv('apy_1.csv')\n",
    "df"
   ]
  },
  {
   "cell_type": "code",
   "execution_count": 2,
   "id": "7829265c",
   "metadata": {},
   "outputs": [
    {
     "data": {
      "text/plain": [
       "(73827, 8)"
      ]
     },
     "execution_count": 2,
     "metadata": {},
     "output_type": "execute_result"
    }
   ],
   "source": [
    "df.shape"
   ]
  },
  {
   "cell_type": "code",
   "execution_count": 3,
   "id": "9ba1d8a0",
   "metadata": {},
   "outputs": [
    {
     "name": "stdout",
     "output_type": "stream",
     "text": [
      "<class 'pandas.core.frame.DataFrame'>\n",
      "RangeIndex: 73827 entries, 0 to 73826\n",
      "Data columns (total 8 columns):\n",
      " #   Column         Non-Null Count  Dtype  \n",
      "---  ------         --------------  -----  \n",
      " 0   Unnamed: 0     73827 non-null  int64  \n",
      " 1   State_Name     73827 non-null  object \n",
      " 2   District_Name  73827 non-null  object \n",
      " 3   Crop_Year      73827 non-null  int64  \n",
      " 4   Season         73827 non-null  object \n",
      " 5   Crop           73827 non-null  object \n",
      " 6   Area           73827 non-null  float64\n",
      " 7   Production     72731 non-null  float64\n",
      "dtypes: float64(2), int64(2), object(4)\n",
      "memory usage: 4.5+ MB\n"
     ]
    }
   ],
   "source": [
    "df.info()"
   ]
  },
  {
   "cell_type": "code",
   "execution_count": 4,
   "id": "24f20840",
   "metadata": {},
   "outputs": [
    {
     "data": {
      "text/html": [
       "<div>\n",
       "<style scoped>\n",
       "    .dataframe tbody tr th:only-of-type {\n",
       "        vertical-align: middle;\n",
       "    }\n",
       "\n",
       "    .dataframe tbody tr th {\n",
       "        vertical-align: top;\n",
       "    }\n",
       "\n",
       "    .dataframe thead th {\n",
       "        text-align: right;\n",
       "    }\n",
       "</style>\n",
       "<table border=\"1\" class=\"dataframe\">\n",
       "  <thead>\n",
       "    <tr style=\"text-align: right;\">\n",
       "      <th></th>\n",
       "      <th>Unnamed: 0</th>\n",
       "      <th>Crop_Year</th>\n",
       "      <th>Area</th>\n",
       "      <th>Production</th>\n",
       "    </tr>\n",
       "  </thead>\n",
       "  <tbody>\n",
       "    <tr>\n",
       "      <th>count</th>\n",
       "      <td>73827.000000</td>\n",
       "      <td>73827.000000</td>\n",
       "      <td>7.382700e+04</td>\n",
       "      <td>7.273100e+04</td>\n",
       "    </tr>\n",
       "    <tr>\n",
       "      <th>mean</th>\n",
       "      <td>36913.000000</td>\n",
       "      <td>2005.657551</td>\n",
       "      <td>1.218297e+04</td>\n",
       "      <td>6.210320e+05</td>\n",
       "    </tr>\n",
       "    <tr>\n",
       "      <th>std</th>\n",
       "      <td>21312.163499</td>\n",
       "      <td>4.954910</td>\n",
       "      <td>5.348285e+04</td>\n",
       "      <td>1.749756e+07</td>\n",
       "    </tr>\n",
       "    <tr>\n",
       "      <th>min</th>\n",
       "      <td>0.000000</td>\n",
       "      <td>1997.000000</td>\n",
       "      <td>4.000000e-02</td>\n",
       "      <td>0.000000e+00</td>\n",
       "    </tr>\n",
       "    <tr>\n",
       "      <th>25%</th>\n",
       "      <td>18456.500000</td>\n",
       "      <td>2002.000000</td>\n",
       "      <td>8.100000e+01</td>\n",
       "      <td>8.900000e+01</td>\n",
       "    </tr>\n",
       "    <tr>\n",
       "      <th>50%</th>\n",
       "      <td>36913.000000</td>\n",
       "      <td>2006.000000</td>\n",
       "      <td>5.900000e+02</td>\n",
       "      <td>7.290000e+02</td>\n",
       "    </tr>\n",
       "    <tr>\n",
       "      <th>75%</th>\n",
       "      <td>55369.500000</td>\n",
       "      <td>2010.000000</td>\n",
       "      <td>4.500000e+03</td>\n",
       "      <td>7.200000e+03</td>\n",
       "    </tr>\n",
       "    <tr>\n",
       "      <th>max</th>\n",
       "      <td>73826.000000</td>\n",
       "      <td>2015.000000</td>\n",
       "      <td>8.580100e+06</td>\n",
       "      <td>1.125000e+09</td>\n",
       "    </tr>\n",
       "  </tbody>\n",
       "</table>\n",
       "</div>"
      ],
      "text/plain": [
       "         Unnamed: 0     Crop_Year          Area    Production\n",
       "count  73827.000000  73827.000000  7.382700e+04  7.273100e+04\n",
       "mean   36913.000000   2005.657551  1.218297e+04  6.210320e+05\n",
       "std    21312.163499      4.954910  5.348285e+04  1.749756e+07\n",
       "min        0.000000   1997.000000  4.000000e-02  0.000000e+00\n",
       "25%    18456.500000   2002.000000  8.100000e+01  8.900000e+01\n",
       "50%    36913.000000   2006.000000  5.900000e+02  7.290000e+02\n",
       "75%    55369.500000   2010.000000  4.500000e+03  7.200000e+03\n",
       "max    73826.000000   2015.000000  8.580100e+06  1.125000e+09"
      ]
     },
     "execution_count": 4,
     "metadata": {},
     "output_type": "execute_result"
    }
   ],
   "source": [
    "df.describe()"
   ]
  },
  {
   "cell_type": "code",
   "execution_count": 5,
   "id": "e081a0aa",
   "metadata": {},
   "outputs": [
    {
     "data": {
      "text/plain": [
       "Unnamed: 0          0\n",
       "State_Name          0\n",
       "District_Name       0\n",
       "Crop_Year           0\n",
       "Season              0\n",
       "Crop                0\n",
       "Area                0\n",
       "Production       1096\n",
       "dtype: int64"
      ]
     },
     "execution_count": 5,
     "metadata": {},
     "output_type": "execute_result"
    }
   ],
   "source": [
    "df.isnull().sum()"
   ]
  },
  {
   "cell_type": "code",
   "execution_count": 7,
   "id": "ff114ddf",
   "metadata": {},
   "outputs": [],
   "source": [
    "df=df.dropna(axis=0)"
   ]
  },
  {
   "cell_type": "code",
   "execution_count": 8,
   "id": "0f70f81d",
   "metadata": {},
   "outputs": [
    {
     "data": {
      "text/html": [
       "<div>\n",
       "<style scoped>\n",
       "    .dataframe tbody tr th:only-of-type {\n",
       "        vertical-align: middle;\n",
       "    }\n",
       "\n",
       "    .dataframe tbody tr th {\n",
       "        vertical-align: top;\n",
       "    }\n",
       "\n",
       "    .dataframe thead th {\n",
       "        text-align: right;\n",
       "    }\n",
       "</style>\n",
       "<table border=\"1\" class=\"dataframe\">\n",
       "  <thead>\n",
       "    <tr style=\"text-align: right;\">\n",
       "      <th></th>\n",
       "      <th>Unnamed: 0</th>\n",
       "      <th>State_Name</th>\n",
       "      <th>District_Name</th>\n",
       "      <th>Crop_Year</th>\n",
       "      <th>Season</th>\n",
       "      <th>Crop</th>\n",
       "      <th>Area</th>\n",
       "      <th>Production</th>\n",
       "    </tr>\n",
       "  </thead>\n",
       "  <tbody>\n",
       "    <tr>\n",
       "      <th>0</th>\n",
       "      <td>0</td>\n",
       "      <td>Bihar</td>\n",
       "      <td>NALANDA</td>\n",
       "      <td>1997</td>\n",
       "      <td>Rabi</td>\n",
       "      <td>Wheat</td>\n",
       "      <td>81934.00</td>\n",
       "      <td>160425.00</td>\n",
       "    </tr>\n",
       "    <tr>\n",
       "      <th>1</th>\n",
       "      <td>1</td>\n",
       "      <td>Assam</td>\n",
       "      <td>KARBI ANGLONG</td>\n",
       "      <td>2011</td>\n",
       "      <td>Whole Year</td>\n",
       "      <td>Onion</td>\n",
       "      <td>257.00</td>\n",
       "      <td>514.00</td>\n",
       "    </tr>\n",
       "    <tr>\n",
       "      <th>2</th>\n",
       "      <td>2</td>\n",
       "      <td>Gujarat</td>\n",
       "      <td>ANAND</td>\n",
       "      <td>2012</td>\n",
       "      <td>Summer</td>\n",
       "      <td>Maize</td>\n",
       "      <td>100.00</td>\n",
       "      <td>100.00</td>\n",
       "    </tr>\n",
       "    <tr>\n",
       "      <th>3</th>\n",
       "      <td>3</td>\n",
       "      <td>Karnataka</td>\n",
       "      <td>UTTAR KANNAD</td>\n",
       "      <td>2005</td>\n",
       "      <td>Rabi</td>\n",
       "      <td>Groundnut</td>\n",
       "      <td>2872.00</td>\n",
       "      <td>4572.00</td>\n",
       "    </tr>\n",
       "    <tr>\n",
       "      <th>4</th>\n",
       "      <td>4</td>\n",
       "      <td>Uttar Pradesh</td>\n",
       "      <td>JAUNPUR</td>\n",
       "      <td>2008</td>\n",
       "      <td>Rabi</td>\n",
       "      <td>Onion</td>\n",
       "      <td>110.00</td>\n",
       "      <td>1290.00</td>\n",
       "    </tr>\n",
       "    <tr>\n",
       "      <th>...</th>\n",
       "      <td>...</td>\n",
       "      <td>...</td>\n",
       "      <td>...</td>\n",
       "      <td>...</td>\n",
       "      <td>...</td>\n",
       "      <td>...</td>\n",
       "      <td>...</td>\n",
       "      <td>...</td>\n",
       "    </tr>\n",
       "    <tr>\n",
       "      <th>73822</th>\n",
       "      <td>73822</td>\n",
       "      <td>Bihar</td>\n",
       "      <td>BUXAR</td>\n",
       "      <td>2004</td>\n",
       "      <td>Whole Year</td>\n",
       "      <td>Onion</td>\n",
       "      <td>203.00</td>\n",
       "      <td>1918.00</td>\n",
       "    </tr>\n",
       "    <tr>\n",
       "      <th>73823</th>\n",
       "      <td>73823</td>\n",
       "      <td>Madhya Pradesh</td>\n",
       "      <td>RAJGARH</td>\n",
       "      <td>2013</td>\n",
       "      <td>Kharif</td>\n",
       "      <td>Bajra</td>\n",
       "      <td>12.00</td>\n",
       "      <td>11.00</td>\n",
       "    </tr>\n",
       "    <tr>\n",
       "      <th>73824</th>\n",
       "      <td>73824</td>\n",
       "      <td>Madhya Pradesh</td>\n",
       "      <td>RAJGARH</td>\n",
       "      <td>1998</td>\n",
       "      <td>Kharif</td>\n",
       "      <td>Groundnut</td>\n",
       "      <td>8700.00</td>\n",
       "      <td>9100.00</td>\n",
       "    </tr>\n",
       "    <tr>\n",
       "      <th>73825</th>\n",
       "      <td>73825</td>\n",
       "      <td>Rajasthan</td>\n",
       "      <td>TONK</td>\n",
       "      <td>2000</td>\n",
       "      <td>Kharif</td>\n",
       "      <td>Bajra</td>\n",
       "      <td>34477.00</td>\n",
       "      <td>20137.00</td>\n",
       "    </tr>\n",
       "    <tr>\n",
       "      <th>73826</th>\n",
       "      <td>73826</td>\n",
       "      <td>Jharkhand</td>\n",
       "      <td>KODERMA</td>\n",
       "      <td>2002</td>\n",
       "      <td>Winter</td>\n",
       "      <td>Rice</td>\n",
       "      <td>14685.71</td>\n",
       "      <td>18552.95</td>\n",
       "    </tr>\n",
       "  </tbody>\n",
       "</table>\n",
       "<p>72731 rows × 8 columns</p>\n",
       "</div>"
      ],
      "text/plain": [
       "       Unnamed: 0      State_Name  District_Name  Crop_Year       Season  \\\n",
       "0               0           Bihar        NALANDA       1997  Rabi          \n",
       "1               1           Assam  KARBI ANGLONG       2011  Whole Year    \n",
       "2               2         Gujarat          ANAND       2012  Summer        \n",
       "3               3       Karnataka   UTTAR KANNAD       2005  Rabi          \n",
       "4               4   Uttar Pradesh        JAUNPUR       2008  Rabi          \n",
       "...           ...             ...            ...        ...          ...   \n",
       "73822       73822           Bihar          BUXAR       2004  Whole Year    \n",
       "73823       73823  Madhya Pradesh        RAJGARH       2013  Kharif        \n",
       "73824       73824  Madhya Pradesh        RAJGARH       1998  Kharif        \n",
       "73825       73825       Rajasthan           TONK       2000  Kharif        \n",
       "73826       73826       Jharkhand        KODERMA       2002  Winter        \n",
       "\n",
       "            Crop      Area  Production  \n",
       "0          Wheat  81934.00   160425.00  \n",
       "1          Onion    257.00      514.00  \n",
       "2          Maize    100.00      100.00  \n",
       "3      Groundnut   2872.00     4572.00  \n",
       "4          Onion    110.00     1290.00  \n",
       "...          ...       ...         ...  \n",
       "73822      Onion    203.00     1918.00  \n",
       "73823      Bajra     12.00       11.00  \n",
       "73824  Groundnut   8700.00     9100.00  \n",
       "73825      Bajra  34477.00    20137.00  \n",
       "73826       Rice  14685.71    18552.95  \n",
       "\n",
       "[72731 rows x 8 columns]"
      ]
     },
     "execution_count": 8,
     "metadata": {},
     "output_type": "execute_result"
    }
   ],
   "source": [
    "df"
   ]
  },
  {
   "cell_type": "code",
   "execution_count": 9,
   "id": "77bc4cc5",
   "metadata": {},
   "outputs": [],
   "source": [
    "import matplotlib.pyplot as plt\n",
    "import seaborn as sns\n"
   ]
  },
  {
   "cell_type": "code",
   "execution_count": 10,
   "id": "048237ab",
   "metadata": {},
   "outputs": [
    {
     "data": {
      "text/plain": [
       "<seaborn.axisgrid.PairGrid at 0x2060f7c2eb0>"
      ]
     },
     "execution_count": 10,
     "metadata": {},
     "output_type": "execute_result"
    },
    {
     "data": {
      "image/png": "[encoded data removed]",
      "text/plain": [
       "<Figure size 288x288 with 1 Axes>"
      ]
     },
     "metadata": {
      "needs_background": "light"
     },
     "output_type": "display_data"
    }
   ],
   "source": [
    "sns.pairplot(df,x_vars='Area',y_vars='Production',size=4,aspect=1,kind='scatter')"
   ]
  },
  {
   "cell_type": "code",
   "execution_count": 11,
   "id": "fdafee5b",
   "metadata": {},
   "outputs": [
    {
     "data": {
      "image/png": "[encoded data removed]",
      "text/plain": [
       "<Figure size 432x288 with 2 Axes>"
      ]
     },
     "metadata": {
      "needs_background": "light"
     },
     "output_type": "display_data"
    }
   ],
   "source": [
    "sns.heatmap(df.corr(),cmap=\"YlGnBu\", annot=True)\n",
    "plt.show()"
   ]
  },
  {
   "cell_type": "code",
   "execution_count": 13,
   "id": "3825f9b5",
   "metadata": {},
   "outputs": [],
   "source": [
    "x=df['Area']\n",
    "y=df['Production']"
   ]
  },
  {
   "cell_type": "code",
   "execution_count": 16,
   "id": "fa366691",
   "metadata": {},
   "outputs": [],
   "source": [
    "from sklearn.model_selection import train_test_split\n",
    "X_train,X_test,y_train,y_test=train_test_split(X,y,train_size=0.8,test_size=0.2,random_state=111)"
   ]
  },
  {
   "cell_type": "code",
   "execution_count": 18,
   "id": "656f9314",
   "metadata": {},
   "outputs": [
    {
     "data": {
      "text/plain": [
       "22943    90384.0\n",
       "30934      600.0\n",
       "40887    15107.0\n",
       "19628        2.0\n",
       "20896      100.0\n",
       "          ...   \n",
       "38407     2467.0\n",
       "29218    14864.0\n",
       "25625     3519.0\n",
       "4895     14595.0\n",
       "10349     2229.0\n",
       "Name: Area, Length: 58184, dtype: float64"
      ]
     },
     "execution_count": 18,
     "metadata": {},
     "output_type": "execute_result"
    }
   ],
   "source": [
    "X_train"
   ]
  },
  {
   "cell_type": "code",
   "execution_count": 19,
   "id": "a71e2a51",
   "metadata": {},
   "outputs": [
    {
     "data": {
      "text/plain": [
       "22943    175616.0\n",
       "30934       300.0\n",
       "40887     51090.0\n",
       "19628         1.0\n",
       "20896       100.0\n",
       "           ...   \n",
       "38407      3894.0\n",
       "29218     11480.0\n",
       "25625      1569.0\n",
       "4895      16058.0\n",
       "10349       972.0\n",
       "Name: Production, Length: 58184, dtype: float64"
      ]
     },
     "execution_count": 19,
     "metadata": {},
     "output_type": "execute_result"
    }
   ],
   "source": [
    "y_train"
   ]
  },
  {
   "cell_type": "code",
   "execution_count": 20,
   "id": "0c6a8a9b",
   "metadata": {},
   "outputs": [],
   "source": [
    "import statsmodels.api as sm\n",
    "X_train_sm=sm.add_constant(X_train)"
   ]
  },
  {
   "cell_type": "code",
   "execution_count": 22,
   "id": "1bd96dbd",
   "metadata": {},
   "outputs": [
    {
     "data": {
      "text/plain": [
       "const    433264.117596\n",
       "Area         12.517891\n",
       "dtype: float64"
      ]
     },
     "execution_count": 22,
     "metadata": {},
     "output_type": "execute_result"
    }
   ],
   "source": [
    "lr=sm.OLS(y_train,X_train_sm).fit()\n",
    "lr.params"
   ]
  },
  {
   "cell_type": "code",
   "execution_count": 23,
   "id": "2c0f79dc",
   "metadata": {},
   "outputs": [
    {
     "data": {
      "text/html": [
       "<table class=\"simpletable\">\n",
       "<caption>OLS Regression Results</caption>\n",
       "<tr>\n",
       "  <th>Dep. Variable:</th>       <td>Production</td>    <th>  R-squared:         </th>  <td>   0.002</td>  \n",
       "</tr>\n",
       "<tr>\n",
       "  <th>Model:</th>                   <td>OLS</td>       <th>  Adj. R-squared:    </th>  <td>   0.002</td>  \n",
       "</tr>\n",
       "<tr>\n",
       "  <th>Method:</th>             <td>Least Squares</td>  <th>  F-statistic:       </th>  <td>   96.08</td>  \n",
       "</tr>\n",
       "<tr>\n",
       "  <th>Date:</th>             <td>Mon, 19 Sep 2022</td> <th>  Prob (F-statistic):</th>  <td>1.15e-22</td>  \n",
       "</tr>\n",
       "<tr>\n",
       "  <th>Time:</th>                 <td>10:06:27</td>     <th>  Log-Likelihood:    </th> <td>-1.0516e+06</td>\n",
       "</tr>\n",
       "<tr>\n",
       "  <th>No. Observations:</th>      <td> 58184</td>      <th>  AIC:               </th>  <td>2.103e+06</td> \n",
       "</tr>\n",
       "<tr>\n",
       "  <th>Df Residuals:</th>          <td> 58182</td>      <th>  BIC:               </th>  <td>2.103e+06</td> \n",
       "</tr>\n",
       "<tr>\n",
       "  <th>Df Model:</th>              <td>     1</td>      <th>                     </th>      <td> </td>     \n",
       "</tr>\n",
       "<tr>\n",
       "  <th>Covariance Type:</th>      <td>nonrobust</td>    <th>                     </th>      <td> </td>     \n",
       "</tr>\n",
       "</table>\n",
       "<table class=\"simpletable\">\n",
       "<tr>\n",
       "    <td></td>       <th>coef</th>     <th>std err</th>      <th>t</th>      <th>P>|t|</th>  <th>[0.025</th>    <th>0.975]</th>  \n",
       "</tr>\n",
       "<tr>\n",
       "  <th>const</th> <td> 4.333e+05</td> <td> 7.26e+04</td> <td>    5.969</td> <td> 0.000</td> <td> 2.91e+05</td> <td> 5.76e+05</td>\n",
       "</tr>\n",
       "<tr>\n",
       "  <th>Area</th>  <td>   12.5179</td> <td>    1.277</td> <td>    9.802</td> <td> 0.000</td> <td>   10.015</td> <td>   15.021</td>\n",
       "</tr>\n",
       "</table>\n",
       "<table class=\"simpletable\">\n",
       "<tr>\n",
       "  <th>Omnibus:</th>       <td>168706.224</td> <th>  Durbin-Watson:     </th>    <td>   2.002</td>   \n",
       "</tr>\n",
       "<tr>\n",
       "  <th>Prob(Omnibus):</th>   <td> 0.000</td>   <th>  Jarque-Bera (JB):  </th> <td>8103931935.368</td>\n",
       "</tr>\n",
       "<tr>\n",
       "  <th>Skew:</th>            <td>40.385</td>   <th>  Prob(JB):          </th>    <td>    0.00</td>   \n",
       "</tr>\n",
       "<tr>\n",
       "  <th>Kurtosis:</th>       <td>1829.533</td>  <th>  Cond. No.          </th>    <td>5.82e+04</td>   \n",
       "</tr>\n",
       "</table><br/><br/>Notes:<br/>[1] Standard Errors assume that the covariance matrix of the errors is correctly specified.<br/>[2] The condition number is large, 5.82e+04. This might indicate that there are<br/>strong multicollinearity or other numerical problems."
      ],
      "text/plain": [
       "<class 'statsmodels.iolib.summary.Summary'>\n",
       "\"\"\"\n",
       "                            OLS Regression Results                            \n",
       "==============================================================================\n",
       "Dep. Variable:             Production   R-squared:                       0.002\n",
       "Model:                            OLS   Adj. R-squared:                  0.002\n",
       "Method:                 Least Squares   F-statistic:                     96.08\n",
       "Date:                Mon, 19 Sep 2022   Prob (F-statistic):           1.15e-22\n",
       "Time:                        10:06:27   Log-Likelihood:            -1.0516e+06\n",
       "No. Observations:               58184   AIC:                         2.103e+06\n",
       "Df Residuals:                   58182   BIC:                         2.103e+06\n",
       "Df Model:                           1                                         \n",
       "Covariance Type:            nonrobust                                         \n",
       "==============================================================================\n",
       "                 coef    std err          t      P>|t|      [0.025      0.975]\n",
       "------------------------------------------------------------------------------\n",
       "const       4.333e+05   7.26e+04      5.969      0.000    2.91e+05    5.76e+05\n",
       "Area          12.5179      1.277      9.802      0.000      10.015      15.021\n",
       "==============================================================================\n",
       "Omnibus:                   168706.224   Durbin-Watson:                   2.002\n",
       "Prob(Omnibus):                  0.000   Jarque-Bera (JB):       8103931935.368\n",
       "Skew:                          40.385   Prob(JB):                         0.00\n",
       "Kurtosis:                    1829.533   Cond. No.                     5.82e+04\n",
       "==============================================================================\n",
       "\n",
       "Notes:\n",
       "[1] Standard Errors assume that the covariance matrix of the errors is correctly specified.\n",
       "[2] The condition number is large, 5.82e+04. This might indicate that there are\n",
       "strong multicollinearity or other numerical problems.\n",
       "\"\"\""
      ]
     },
     "execution_count": 23,
     "metadata": {},
     "output_type": "execute_result"
    }
   ],
   "source": [
    "lr.summary()"
   ]
  },
  {
   "cell_type": "code",
   "execution_count": 24,
   "id": "ad8c7316",
   "metadata": {},
   "outputs": [
    {
     "data": {
      "image/png": "[encoded data removed]",
      "text/plain": [
       "<Figure size 432x288 with 1 Axes>"
      ]
     },
     "metadata": {
      "needs_background": "light"
     },
     "output_type": "display_data"
    }
   ],
   "source": [
    "plt.scatter(X_train,y_train)\n",
    "plt.plot(X_train,4.333e+05+12.5179*X_train,'r')\n",
    "plt.show()"
   ]
  },
  {
   "cell_type": "code",
   "execution_count": 25,
   "id": "f89bbd12",
   "metadata": {},
   "outputs": [],
   "source": [
    "y_train_pred=lr.predict(X_train_sm)\n",
    "res=(y_train - y_train_pred)"
   ]
  },
  {
   "cell_type": "code",
   "execution_count": 26,
   "id": "b6d8ff35",
   "metadata": {},
   "outputs": [
    {
     "data": {
      "image/png": "[encoded data removed]",
      "text/plain": [
       "<Figure size 432x288 with 1 Axes>"
      ]
     },
     "metadata": {
      "needs_background": "light"
     },
     "output_type": "display_data"
    }
   ],
   "source": [
    "fig=plt.figure()\n",
    "sns.distplot(res,bins=15)\n",
    "plt.title('Error Terms',fontsize=15)\n",
    "plt.xlabel('y_train - y_train_pred',fontsize=15)\n",
    "plt.show()"
   ]
  },
  {
   "cell_type": "code",
   "execution_count": 27,
   "id": "223fe54b",
   "metadata": {},
   "outputs": [
    {
     "data": {
      "image/png": "[encoded data removed]",
      "text/plain": [
       "<Figure size 432x288 with 1 Axes>"
      ]
     },
     "metadata": {
      "needs_background": "light"
     },
     "output_type": "display_data"
    }
   ],
   "source": [
    "plt.scatter(X_train,res)\n",
    "plt.show()"
   ]
  },
  {
   "cell_type": "code",
   "execution_count": 28,
   "id": "6d477712",
   "metadata": {},
   "outputs": [
    {
     "data": {
      "text/plain": [
       "8555     463307.055130\n",
       "65858    433677.207987\n",
       "13878    611205.933035\n",
       "4248     435529.855801\n",
       "69272    437482.646741\n",
       "             ...      \n",
       "52318    435141.801192\n",
       "13737    451202.254882\n",
       "34477    923965.430661\n",
       "69865    455395.748246\n",
       "68253    440499.458385\n",
       "Length: 14547, dtype: float64"
      ]
     },
     "execution_count": 28,
     "metadata": {},
     "output_type": "execute_result"
    }
   ],
   "source": [
    "X_test_sm = sm.add_constant(X_test)\n",
    "y_test_pred = lr.predict(X_test_sm)\n",
    "y_test_pred"
   ]
  },
  {
   "cell_type": "code",
   "execution_count": 29,
   "id": "c181775c",
   "metadata": {},
   "outputs": [
    {
     "data": {
      "text/plain": [
       "0.0016957131314162543"
      ]
     },
     "execution_count": 29,
     "metadata": {},
     "output_type": "execute_result"
    }
   ],
   "source": [
    "from sklearn.metrics import r2_score\n",
    "r_squared=r2_score(y_test,y_test_pred)\n",
    "r_squared"
   ]
  },
  {
   "cell_type": "code",
   "execution_count": 31,
   "id": "60b33ab3",
   "metadata": {},
   "outputs": [
    {
     "data": {
      "image/png": "[encoded data removed]",
      "text/plain": [
       "<Figure size 432x288 with 1 Axes>"
      ]
     },
     "metadata": {
      "needs_background": "light"
     },
     "output_type": "display_data"
    }
   ],
   "source": [
    "plt.scatter(X_test,y_test)\n",
    "plt.plot(X_test,y_test_pred,'r')\n",
    "plt.show()"
   ]
  },
  {
   "cell_type": "code",
   "execution_count": 33,
   "id": "88ff4a5e",
   "metadata": {},
   "outputs": [],
   "source": [
    "from sklearn.model_selection import train_test_split\n",
    "X_train_lm, X_test_lm, y_train_lm, y_test_lm = train_test_split(X, y, train_size = 0.8, test_size = 0.2, random_state=111)"
   ]
  },
  {
   "cell_type": "code",
   "execution_count": 34,
   "id": "a379c0cb",
   "metadata": {},
   "outputs": [
    {
     "name": "stdout",
     "output_type": "stream",
     "text": [
      "(58184, 1)\n",
      "(14547, 1)\n"
     ]
    }
   ],
   "source": [
    "X_train_lm.shape\n",
    "X_train_lm=X_train_lm.values.reshape(-1,1)\n",
    "X_test_lm=X_test_lm.values.reshape(-1,1)\n",
    "print(X_train_lm.shape)\n",
    "print(X_test_lm.shape)"
   ]
  },
  {
   "cell_type": "code",
   "execution_count": 35,
   "id": "726a4014",
   "metadata": {},
   "outputs": [
    {
     "data": {
      "text/plain": [
       "LinearRegression()"
      ]
     },
     "execution_count": 35,
     "metadata": {},
     "output_type": "execute_result"
    }
   ],
   "source": [
    "from sklearn.linear_model import LinearRegression\n",
    "lm=LinearRegression()\n",
    "lm.fit(X_train_lm, y_train_lm)"
   ]
  },
  {
   "cell_type": "code",
   "execution_count": 36,
   "id": "55c0f32d",
   "metadata": {},
   "outputs": [
    {
     "name": "stdout",
     "output_type": "stream",
     "text": [
      "Intercept : 433264.11759569094\n",
      "Slope : [12.51789064]\n"
     ]
    }
   ],
   "source": [
    "print(\"Intercept :\",lm.intercept_)\n",
    "print(\"Slope :\",lm.coef_)"
   ]
  },
  {
   "cell_type": "code",
   "execution_count": 37,
   "id": "7dcdcdbd",
   "metadata": {},
   "outputs": [
    {
     "name": "stdout",
     "output_type": "stream",
     "text": [
      "0.0016486698798432453\n",
      "0.0016957131314162543\n"
     ]
    }
   ],
   "source": [
    "y_train_pred = lm.predict(X_train_lm)\n",
    "y_test_pred = lm.predict(X_test_lm)\n",
    "print(r2_score(y_train,y_train_pred))\n",
    "print(r2_score(y_test,y_test_pred))"
   ]
  },
  {
   "cell_type": "code",
   "execution_count": 39,
   "id": "29c90f5c",
   "metadata": {},
   "outputs": [
    {
     "name": "stdout",
     "output_type": "stream",
     "text": [
      "18962432.767530125\n"
     ]
    }
   ],
   "source": [
    "from sklearn.metrics import mean_squared_error\n",
    "import math\n",
    "MSE = mean_squared_error(y_test,y_test_pred)\n",
    "RMSE=math.sqrt(MSE)\n",
    "print(RMSE)"
   ]
  },
  {
   "cell_type": "code",
   "execution_count": null,
   "id": "04f72fa1",
   "metadata": {},
   "outputs": [],
   "source": []
  }
 ],
 "metadata": {
  "kernelspec": {
   "display_name": "Python 3 (ipykernel)",
   "language": "python",
   "name": "python3"
  },
  "language_info": {
   "codemirror_mode": {
    "name": "ipython",
    "version": 3
   },
   "file_extension": ".py",
   "mimetype": "text/x-python",
   "name": "python",
   "nbconvert_exporter": "python",
   "pygments_lexer": "ipython3",
   "version": "3.9.7"
  }
 },
 "nbformat": 4,
 "nbformat_minor": 5
}
