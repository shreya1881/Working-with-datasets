{
 "cells": [
  {
   "cell_type": "markdown",
   "id": "46245a42",
   "metadata": {},
   "source": [
    "#### Read the given dataset apy_1.csv\n",
    "#### Drop the rows with missing values if any"
   ]
  },
  {
   "cell_type": "code",
   "execution_count": 1,
   "id": "74c7572f",
   "metadata": {},
   "outputs": [],
   "source": [
    "import pandas as pd\n",
    "import numpy as np\n"
   ]
  },
  {
   "cell_type": "code",
   "execution_count": 2,
   "id": "8c8892a4",
   "metadata": {},
   "outputs": [],
   "source": [
    "df=pd.read_csv('apy_1.csv')"
   ]
  },
  {
   "cell_type": "code",
   "execution_count": 3,
   "id": "0056c6da",
   "metadata": {},
   "outputs": [
    {
     "data": {
      "text/html": [
       "<div>\n",
       "<style scoped>\n",
       "    .dataframe tbody tr th:only-of-type {\n",
       "        vertical-align: middle;\n",
       "    }\n",
       "\n",
       "    .dataframe tbody tr th {\n",
       "        vertical-align: top;\n",
       "    }\n",
       "\n",
       "    .dataframe thead th {\n",
       "        text-align: right;\n",
       "    }\n",
       "</style>\n",
       "<table border=\"1\" class=\"dataframe\">\n",
       "  <thead>\n",
       "    <tr style=\"text-align: right;\">\n",
       "      <th></th>\n",
       "      <th>Unnamed: 0</th>\n",
       "      <th>State_Name</th>\n",
       "      <th>District_Name</th>\n",
       "      <th>Crop_Year</th>\n",
       "      <th>Season</th>\n",
       "      <th>Crop</th>\n",
       "      <th>Area</th>\n",
       "      <th>Production</th>\n",
       "    </tr>\n",
       "  </thead>\n",
       "  <tbody>\n",
       "    <tr>\n",
       "      <th>0</th>\n",
       "      <td>0</td>\n",
       "      <td>Bihar</td>\n",
       "      <td>NALANDA</td>\n",
       "      <td>1997</td>\n",
       "      <td>Rabi</td>\n",
       "      <td>Wheat</td>\n",
       "      <td>81934.00</td>\n",
       "      <td>160425.00</td>\n",
       "    </tr>\n",
       "    <tr>\n",
       "      <th>1</th>\n",
       "      <td>1</td>\n",
       "      <td>Assam</td>\n",
       "      <td>KARBI ANGLONG</td>\n",
       "      <td>2011</td>\n",
       "      <td>Whole Year</td>\n",
       "      <td>Onion</td>\n",
       "      <td>257.00</td>\n",
       "      <td>514.00</td>\n",
       "    </tr>\n",
       "    <tr>\n",
       "      <th>2</th>\n",
       "      <td>2</td>\n",
       "      <td>Gujarat</td>\n",
       "      <td>ANAND</td>\n",
       "      <td>2012</td>\n",
       "      <td>Summer</td>\n",
       "      <td>Maize</td>\n",
       "      <td>100.00</td>\n",
       "      <td>100.00</td>\n",
       "    </tr>\n",
       "    <tr>\n",
       "      <th>3</th>\n",
       "      <td>3</td>\n",
       "      <td>Karnataka</td>\n",
       "      <td>UTTAR KANNAD</td>\n",
       "      <td>2005</td>\n",
       "      <td>Rabi</td>\n",
       "      <td>Groundnut</td>\n",
       "      <td>2872.00</td>\n",
       "      <td>4572.00</td>\n",
       "    </tr>\n",
       "    <tr>\n",
       "      <th>4</th>\n",
       "      <td>4</td>\n",
       "      <td>Uttar Pradesh</td>\n",
       "      <td>JAUNPUR</td>\n",
       "      <td>2008</td>\n",
       "      <td>Rabi</td>\n",
       "      <td>Onion</td>\n",
       "      <td>110.00</td>\n",
       "      <td>1290.00</td>\n",
       "    </tr>\n",
       "    <tr>\n",
       "      <th>...</th>\n",
       "      <td>...</td>\n",
       "      <td>...</td>\n",
       "      <td>...</td>\n",
       "      <td>...</td>\n",
       "      <td>...</td>\n",
       "      <td>...</td>\n",
       "      <td>...</td>\n",
       "      <td>...</td>\n",
       "    </tr>\n",
       "    <tr>\n",
       "      <th>73822</th>\n",
       "      <td>73822</td>\n",
       "      <td>Bihar</td>\n",
       "      <td>BUXAR</td>\n",
       "      <td>2004</td>\n",
       "      <td>Whole Year</td>\n",
       "      <td>Onion</td>\n",
       "      <td>203.00</td>\n",
       "      <td>1918.00</td>\n",
       "    </tr>\n",
       "    <tr>\n",
       "      <th>73823</th>\n",
       "      <td>73823</td>\n",
       "      <td>Madhya Pradesh</td>\n",
       "      <td>RAJGARH</td>\n",
       "      <td>2013</td>\n",
       "      <td>Kharif</td>\n",
       "      <td>Bajra</td>\n",
       "      <td>12.00</td>\n",
       "      <td>11.00</td>\n",
       "    </tr>\n",
       "    <tr>\n",
       "      <th>73824</th>\n",
       "      <td>73824</td>\n",
       "      <td>Madhya Pradesh</td>\n",
       "      <td>RAJGARH</td>\n",
       "      <td>1998</td>\n",
       "      <td>Kharif</td>\n",
       "      <td>Groundnut</td>\n",
       "      <td>8700.00</td>\n",
       "      <td>9100.00</td>\n",
       "    </tr>\n",
       "    <tr>\n",
       "      <th>73825</th>\n",
       "      <td>73825</td>\n",
       "      <td>Rajasthan</td>\n",
       "      <td>TONK</td>\n",
       "      <td>2000</td>\n",
       "      <td>Kharif</td>\n",
       "      <td>Bajra</td>\n",
       "      <td>34477.00</td>\n",
       "      <td>20137.00</td>\n",
       "    </tr>\n",
       "    <tr>\n",
       "      <th>73826</th>\n",
       "      <td>73826</td>\n",
       "      <td>Jharkhand</td>\n",
       "      <td>KODERMA</td>\n",
       "      <td>2002</td>\n",
       "      <td>Winter</td>\n",
       "      <td>Rice</td>\n",
       "      <td>14685.71</td>\n",
       "      <td>18552.95</td>\n",
       "    </tr>\n",
       "  </tbody>\n",
       "</table>\n",
       "<p>73827 rows × 8 columns</p>\n",
       "</div>"
      ],
      "text/plain": [
       "       Unnamed: 0      State_Name  District_Name  Crop_Year       Season  \\\n",
       "0               0           Bihar        NALANDA       1997  Rabi          \n",
       "1               1           Assam  KARBI ANGLONG       2011  Whole Year    \n",
       "2               2         Gujarat          ANAND       2012  Summer        \n",
       "3               3       Karnataka   UTTAR KANNAD       2005  Rabi          \n",
       "4               4   Uttar Pradesh        JAUNPUR       2008  Rabi          \n",
       "...           ...             ...            ...        ...          ...   \n",
       "73822       73822           Bihar          BUXAR       2004  Whole Year    \n",
       "73823       73823  Madhya Pradesh        RAJGARH       2013  Kharif        \n",
       "73824       73824  Madhya Pradesh        RAJGARH       1998  Kharif        \n",
       "73825       73825       Rajasthan           TONK       2000  Kharif        \n",
       "73826       73826       Jharkhand        KODERMA       2002  Winter        \n",
       "\n",
       "            Crop      Area  Production  \n",
       "0          Wheat  81934.00   160425.00  \n",
       "1          Onion    257.00      514.00  \n",
       "2          Maize    100.00      100.00  \n",
       "3      Groundnut   2872.00     4572.00  \n",
       "4          Onion    110.00     1290.00  \n",
       "...          ...       ...         ...  \n",
       "73822      Onion    203.00     1918.00  \n",
       "73823      Bajra     12.00       11.00  \n",
       "73824  Groundnut   8700.00     9100.00  \n",
       "73825      Bajra  34477.00    20137.00  \n",
       "73826       Rice  14685.71    18552.95  \n",
       "\n",
       "[73827 rows x 8 columns]"
      ]
     },
     "execution_count": 3,
     "metadata": {},
     "output_type": "execute_result"
    }
   ],
   "source": [
    "df"
   ]
  },
  {
   "cell_type": "code",
   "execution_count": 4,
   "id": "9a881ba0",
   "metadata": {},
   "outputs": [
    {
     "data": {
      "text/plain": [
       "Unnamed: 0          0\n",
       "State_Name          0\n",
       "District_Name       0\n",
       "Crop_Year           0\n",
       "Season              0\n",
       "Crop                0\n",
       "Area                0\n",
       "Production       1096\n",
       "dtype: int64"
      ]
     },
     "execution_count": 4,
     "metadata": {},
     "output_type": "execute_result"
    }
   ],
   "source": [
    "df.isnull().sum()"
   ]
  },
  {
   "cell_type": "code",
   "execution_count": 5,
   "id": "ebce3879",
   "metadata": {},
   "outputs": [
    {
     "data": {
      "text/html": [
       "<div>\n",
       "<style scoped>\n",
       "    .dataframe tbody tr th:only-of-type {\n",
       "        vertical-align: middle;\n",
       "    }\n",
       "\n",
       "    .dataframe tbody tr th {\n",
       "        vertical-align: top;\n",
       "    }\n",
       "\n",
       "    .dataframe thead th {\n",
       "        text-align: right;\n",
       "    }\n",
       "</style>\n",
       "<table border=\"1\" class=\"dataframe\">\n",
       "  <thead>\n",
       "    <tr style=\"text-align: right;\">\n",
       "      <th></th>\n",
       "      <th>Unnamed: 0</th>\n",
       "      <th>State_Name</th>\n",
       "      <th>District_Name</th>\n",
       "      <th>Crop_Year</th>\n",
       "      <th>Season</th>\n",
       "      <th>Crop</th>\n",
       "      <th>Area</th>\n",
       "      <th>Production</th>\n",
       "    </tr>\n",
       "  </thead>\n",
       "  <tbody>\n",
       "    <tr>\n",
       "      <th>0</th>\n",
       "      <td>0</td>\n",
       "      <td>Bihar</td>\n",
       "      <td>NALANDA</td>\n",
       "      <td>1997</td>\n",
       "      <td>Rabi</td>\n",
       "      <td>Wheat</td>\n",
       "      <td>81934.00</td>\n",
       "      <td>160425.00</td>\n",
       "    </tr>\n",
       "    <tr>\n",
       "      <th>1</th>\n",
       "      <td>1</td>\n",
       "      <td>Assam</td>\n",
       "      <td>KARBI ANGLONG</td>\n",
       "      <td>2011</td>\n",
       "      <td>Whole Year</td>\n",
       "      <td>Onion</td>\n",
       "      <td>257.00</td>\n",
       "      <td>514.00</td>\n",
       "    </tr>\n",
       "    <tr>\n",
       "      <th>2</th>\n",
       "      <td>2</td>\n",
       "      <td>Gujarat</td>\n",
       "      <td>ANAND</td>\n",
       "      <td>2012</td>\n",
       "      <td>Summer</td>\n",
       "      <td>Maize</td>\n",
       "      <td>100.00</td>\n",
       "      <td>100.00</td>\n",
       "    </tr>\n",
       "    <tr>\n",
       "      <th>3</th>\n",
       "      <td>3</td>\n",
       "      <td>Karnataka</td>\n",
       "      <td>UTTAR KANNAD</td>\n",
       "      <td>2005</td>\n",
       "      <td>Rabi</td>\n",
       "      <td>Groundnut</td>\n",
       "      <td>2872.00</td>\n",
       "      <td>4572.00</td>\n",
       "    </tr>\n",
       "    <tr>\n",
       "      <th>4</th>\n",
       "      <td>4</td>\n",
       "      <td>Uttar Pradesh</td>\n",
       "      <td>JAUNPUR</td>\n",
       "      <td>2008</td>\n",
       "      <td>Rabi</td>\n",
       "      <td>Onion</td>\n",
       "      <td>110.00</td>\n",
       "      <td>1290.00</td>\n",
       "    </tr>\n",
       "    <tr>\n",
       "      <th>...</th>\n",
       "      <td>...</td>\n",
       "      <td>...</td>\n",
       "      <td>...</td>\n",
       "      <td>...</td>\n",
       "      <td>...</td>\n",
       "      <td>...</td>\n",
       "      <td>...</td>\n",
       "      <td>...</td>\n",
       "    </tr>\n",
       "    <tr>\n",
       "      <th>73822</th>\n",
       "      <td>73822</td>\n",
       "      <td>Bihar</td>\n",
       "      <td>BUXAR</td>\n",
       "      <td>2004</td>\n",
       "      <td>Whole Year</td>\n",
       "      <td>Onion</td>\n",
       "      <td>203.00</td>\n",
       "      <td>1918.00</td>\n",
       "    </tr>\n",
       "    <tr>\n",
       "      <th>73823</th>\n",
       "      <td>73823</td>\n",
       "      <td>Madhya Pradesh</td>\n",
       "      <td>RAJGARH</td>\n",
       "      <td>2013</td>\n",
       "      <td>Kharif</td>\n",
       "      <td>Bajra</td>\n",
       "      <td>12.00</td>\n",
       "      <td>11.00</td>\n",
       "    </tr>\n",
       "    <tr>\n",
       "      <th>73824</th>\n",
       "      <td>73824</td>\n",
       "      <td>Madhya Pradesh</td>\n",
       "      <td>RAJGARH</td>\n",
       "      <td>1998</td>\n",
       "      <td>Kharif</td>\n",
       "      <td>Groundnut</td>\n",
       "      <td>8700.00</td>\n",
       "      <td>9100.00</td>\n",
       "    </tr>\n",
       "    <tr>\n",
       "      <th>73825</th>\n",
       "      <td>73825</td>\n",
       "      <td>Rajasthan</td>\n",
       "      <td>TONK</td>\n",
       "      <td>2000</td>\n",
       "      <td>Kharif</td>\n",
       "      <td>Bajra</td>\n",
       "      <td>34477.00</td>\n",
       "      <td>20137.00</td>\n",
       "    </tr>\n",
       "    <tr>\n",
       "      <th>73826</th>\n",
       "      <td>73826</td>\n",
       "      <td>Jharkhand</td>\n",
       "      <td>KODERMA</td>\n",
       "      <td>2002</td>\n",
       "      <td>Winter</td>\n",
       "      <td>Rice</td>\n",
       "      <td>14685.71</td>\n",
       "      <td>18552.95</td>\n",
       "    </tr>\n",
       "  </tbody>\n",
       "</table>\n",
       "<p>72731 rows × 8 columns</p>\n",
       "</div>"
      ],
      "text/plain": [
       "       Unnamed: 0      State_Name  District_Name  Crop_Year       Season  \\\n",
       "0               0           Bihar        NALANDA       1997  Rabi          \n",
       "1               1           Assam  KARBI ANGLONG       2011  Whole Year    \n",
       "2               2         Gujarat          ANAND       2012  Summer        \n",
       "3               3       Karnataka   UTTAR KANNAD       2005  Rabi          \n",
       "4               4   Uttar Pradesh        JAUNPUR       2008  Rabi          \n",
       "...           ...             ...            ...        ...          ...   \n",
       "73822       73822           Bihar          BUXAR       2004  Whole Year    \n",
       "73823       73823  Madhya Pradesh        RAJGARH       2013  Kharif        \n",
       "73824       73824  Madhya Pradesh        RAJGARH       1998  Kharif        \n",
       "73825       73825       Rajasthan           TONK       2000  Kharif        \n",
       "73826       73826       Jharkhand        KODERMA       2002  Winter        \n",
       "\n",
       "            Crop      Area  Production  \n",
       "0          Wheat  81934.00   160425.00  \n",
       "1          Onion    257.00      514.00  \n",
       "2          Maize    100.00      100.00  \n",
       "3      Groundnut   2872.00     4572.00  \n",
       "4          Onion    110.00     1290.00  \n",
       "...          ...       ...         ...  \n",
       "73822      Onion    203.00     1918.00  \n",
       "73823      Bajra     12.00       11.00  \n",
       "73824  Groundnut   8700.00     9100.00  \n",
       "73825      Bajra  34477.00    20137.00  \n",
       "73826       Rice  14685.71    18552.95  \n",
       "\n",
       "[72731 rows x 8 columns]"
      ]
     },
     "execution_count": 5,
     "metadata": {},
     "output_type": "execute_result"
    }
   ],
   "source": [
    "df.dropna(axis=0)"
   ]
  },
  {
   "cell_type": "markdown",
   "id": "b9399e8b",
   "metadata": {},
   "source": [
    "#### 1) Which of the following statement(s) is/are TRUE?\n",
    " ##### The overall production during the Kharif season is 1,195,933,000 (approx.)\n",
    " ##### The overall production during the Summer season is 34,549,800 (approx.)\n",
    " ##### The overall production during the Autumn season is 19,690,400 (approx.)\n",
    " ##### None of the above"
   ]
  },
  {
   "cell_type": "code",
   "execution_count": 6,
   "id": "3a5b5c6a",
   "metadata": {},
   "outputs": [
    {
     "data": {
      "text/plain": [
       "Season\n",
       "Autumn         1.969044e+07\n",
       "Kharif         1.195933e+09\n",
       "Rabi           6.151127e+08\n",
       "Summer         4.920665e+07\n",
       "Whole Year     4.315616e+10\n",
       "Winter         1.321746e+08\n",
       "Name: Production, dtype: float64"
      ]
     },
     "execution_count": 6,
     "metadata": {},
     "output_type": "execute_result"
    }
   ],
   "source": [
    "df.groupby(['Season'])['Production'].sum()"
   ]
  },
  {
   "cell_type": "markdown",
   "id": "f035b720",
   "metadata": {},
   "source": [
    "#### 2) Which of the following set of crop(s) is/are produced during the Whole year season? (select option with all that apply)\n",
    " ##### Sugarcane, Garlic, Mango, Arhar/Tur\n",
    " ##### Paddy, Maize, Moong (Green Gram), Onion, Apple\n",
    " ##### Banana, Coriander, Gram, Rapeseed & Mustard, Sweet lime\n",
    " ##### Cabbage, Bitter Gourd, Masoor, Cucumbe"
   ]
  },
  {
   "cell_type": "code",
   "execution_count": 20,
   "id": "d80dba8c",
   "metadata": {},
   "outputs": [
    {
     "data": {
      "text/html": [
       "<div>\n",
       "<style scoped>\n",
       "    .dataframe tbody tr th:only-of-type {\n",
       "        vertical-align: middle;\n",
       "    }\n",
       "\n",
       "    .dataframe tbody tr th {\n",
       "        vertical-align: top;\n",
       "    }\n",
       "\n",
       "    .dataframe thead th {\n",
       "        text-align: right;\n",
       "    }\n",
       "</style>\n",
       "<table border=\"1\" class=\"dataframe\">\n",
       "  <thead>\n",
       "    <tr style=\"text-align: right;\">\n",
       "      <th></th>\n",
       "      <th>Unnamed: 0</th>\n",
       "      <th>State_Name</th>\n",
       "      <th>District_Name</th>\n",
       "      <th>Crop_Year</th>\n",
       "      <th>Season</th>\n",
       "      <th>Area</th>\n",
       "      <th>Production</th>\n",
       "    </tr>\n",
       "    <tr>\n",
       "      <th>Crop</th>\n",
       "      <th></th>\n",
       "      <th></th>\n",
       "      <th></th>\n",
       "      <th></th>\n",
       "      <th></th>\n",
       "      <th></th>\n",
       "      <th></th>\n",
       "    </tr>\n",
       "  </thead>\n",
       "  <tbody>\n",
       "  </tbody>\n",
       "</table>\n",
       "</div>"
      ],
      "text/plain": [
       "Empty DataFrame\n",
       "Columns: [Unnamed: 0, State_Name, District_Name, Crop_Year, Season, Area, Production]\n",
       "Index: []"
      ]
     },
     "execution_count": 20,
     "metadata": {},
     "output_type": "execute_result"
    }
   ],
   "source": [
    "df[df[\"Season\"]=='Whole Year'].groupby([\"Crop\"],sort=True).count()\n"
   ]
  },
  {
   "cell_type": "markdown",
   "id": "51d4385f",
   "metadata": {},
   "source": [
    "#### 3) Which district in India has the lowest crop production?\n",
    " ##### Coimbatore\n",
    " ##### Thrissur\n",
    " ##### Kannur\n",
    " ##### Mumbai"
   ]
  },
  {
   "cell_type": "code",
   "execution_count": 17,
   "id": "60ac6fa7",
   "metadata": {},
   "outputs": [
    {
     "data": {
      "text/plain": [
       "District_Name\n",
       "MUMBAI                2.000000e+00\n",
       "HYDERABAD             3.060000e+02\n",
       "NAMSAI                7.940000e+02\n",
       "RAMGARH               8.930000e+02\n",
       "RAMBAN                1.578000e+03\n",
       "                          ...     \n",
       "THIRUVANANTHAPURAM    2.963416e+09\n",
       "KASARAGOD             3.479150e+09\n",
       "THRISSUR              3.681628e+09\n",
       "MALAPPURAM            4.375478e+09\n",
       "KOZHIKODE             6.012791e+09\n",
       "Name: Production, Length: 646, dtype: float64"
      ]
     },
     "execution_count": 17,
     "metadata": {},
     "output_type": "execute_result"
    }
   ],
   "source": [
    "df.groupby([\"District_Name\"])[\"Production\"].sum().sort_values()"
   ]
  },
  {
   "cell_type": "markdown",
   "id": "86be1f3f",
   "metadata": {},
   "source": [
    "#### 4) During which year did West Bengal have the highest crop production?\n",
    "  ##### 2013\n",
    "  ##### 2007\n",
    "  ##### 1997\n",
    "  ##### 2006"
   ]
  },
  {
   "cell_type": "code",
   "execution_count": 27,
   "id": "efc8ff47",
   "metadata": {},
   "outputs": [
    {
     "data": {
      "text/plain": [
       "Crop_Year\n",
       "2001      7689550.7\n",
       "2000      8323849.0\n",
       "2004      8608367.5\n",
       "1999      9195580.0\n",
       "2005      9494050.0\n",
       "1998      9988608.3\n",
       "2008     10030521.0\n",
       "2011     10949803.0\n",
       "2010     12338035.0\n",
       "2002     12559002.1\n",
       "2013     13494606.0\n",
       "2012     13498244.0\n",
       "2003     14170705.6\n",
       "2009     14476077.0\n",
       "2014     18302156.0\n",
       "1997     22472430.0\n",
       "2006    173250298.0\n",
       "2007    201537048.0\n",
       "Name: Production, dtype: float64"
      ]
     },
     "execution_count": 27,
     "metadata": {},
     "output_type": "execute_result"
    }
   ],
   "source": [
    "f=df[df[\"State_Name\"]==\"West Bengal\"].groupby([\"Crop_Year\"])[\"Production\"].sum()\n",
    "f=f.sort_values()\n",
    "f"
   ]
  },
  {
   "cell_type": "markdown",
   "id": "7078101c",
   "metadata": {},
   "source": [
    "#### 5) Which state in India has the second highest crop production? (Overall, for all years)\n",
    " ##### Andhra Pradesh\n",
    " ##### Tamil Nadu\n",
    " ##### Kerala\n",
    " ##### Uttar Pradesh"
   ]
  },
  {
   "cell_type": "code",
   "execution_count": 29,
   "id": "ba4411e0",
   "metadata": {},
   "outputs": [
    {
     "data": {
      "text/plain": [
       "State_Name\n",
       "Chandigarh                     2.923000e+04\n",
       "Mizoram                        4.704351e+05\n",
       "Sikkim                         6.453750e+05\n",
       "Dadra and Nagar Haveli         6.919730e+05\n",
       "Manipur                        1.560800e+06\n",
       "Arunachal Pradesh              2.181652e+06\n",
       "Nagaland                       3.340025e+06\n",
       "Jharkhand                      3.416858e+06\n",
       "Jammu and Kashmir              3.870168e+06\n",
       "Tripura                        3.975350e+06\n",
       "Meghalaya                      4.059699e+06\n",
       "Himachal Pradesh               5.828741e+06\n",
       "Chhattisgarh                   3.260849e+07\n",
       "Uttarakhand                    3.685920e+07\n",
       "Odisha                         4.635979e+07\n",
       "Puducherry                     7.539482e+07\n",
       "Rajasthan                      8.756090e+07\n",
       "Haryana                        9.644999e+07\n",
       "Telangana                      9.946250e+07\n",
       "Bihar                          1.125670e+08\n",
       "Madhya Pradesh                 1.300390e+08\n",
       "Gujarat                        1.500758e+08\n",
       "Punjab                         1.710590e+08\n",
       "Goa                            2.367726e+08\n",
       "Karnataka                      2.640385e+08\n",
       "Andaman and Nicobar Islands    2.936291e+08\n",
       "Maharashtra                    3.621771e+08\n",
       "West Bengal                    5.703789e+08\n",
       "Assam                          6.019920e+08\n",
       "Uttar Pradesh                  9.890559e+08\n",
       "Andhra Pradesh                 3.595973e+09\n",
       "Tamil Nadu                     4.045188e+09\n",
       "Kerala                         3.314056e+10\n",
       "Name: Production, dtype: float64"
      ]
     },
     "execution_count": 29,
     "metadata": {},
     "output_type": "execute_result"
    }
   ],
   "source": [
    "l=df.groupby([\"State_Name\"])[\"Production\"].sum()\n",
    "l=l.sort_values()\n",
    "l"
   ]
  },
  {
   "cell_type": "markdown",
   "id": "8e1b0ff7",
   "metadata": {},
   "source": [
    "#### 6) What is the average crop production?\n",
    " ##### 17,065,810.29 (approx.)\n",
    " ##### 50,857.44 (approx.)\n",
    " ##### 242,361.35 (approx.)\n",
    " ##### 621,031.95 (approx.)"
   ]
  },
  {
   "cell_type": "code",
   "execution_count": 30,
   "id": "b5fef88b",
   "metadata": {},
   "outputs": [
    {
     "data": {
      "text/plain": [
       "621031.9533575787"
      ]
     },
     "execution_count": 30,
     "metadata": {},
     "output_type": "execute_result"
    }
   ],
   "source": [
    "df[\"Production\"].mean()"
   ]
  },
  {
   "cell_type": "code",
   "execution_count": 31,
   "id": "7c5f7681",
   "metadata": {},
   "outputs": [
    {
     "data": {
      "text/html": [
       "<div>\n",
       "<style scoped>\n",
       "    .dataframe tbody tr th:only-of-type {\n",
       "        vertical-align: middle;\n",
       "    }\n",
       "\n",
       "    .dataframe tbody tr th {\n",
       "        vertical-align: top;\n",
       "    }\n",
       "\n",
       "    .dataframe thead th {\n",
       "        text-align: right;\n",
       "    }\n",
       "</style>\n",
       "<table border=\"1\" class=\"dataframe\">\n",
       "  <thead>\n",
       "    <tr style=\"text-align: right;\">\n",
       "      <th></th>\n",
       "      <th>Unnamed: 0</th>\n",
       "      <th>Crop_Year</th>\n",
       "      <th>Area</th>\n",
       "      <th>Production</th>\n",
       "    </tr>\n",
       "  </thead>\n",
       "  <tbody>\n",
       "    <tr>\n",
       "      <th>count</th>\n",
       "      <td>73827.000000</td>\n",
       "      <td>73827.000000</td>\n",
       "      <td>7.382700e+04</td>\n",
       "      <td>7.273100e+04</td>\n",
       "    </tr>\n",
       "    <tr>\n",
       "      <th>mean</th>\n",
       "      <td>36913.000000</td>\n",
       "      <td>2005.657551</td>\n",
       "      <td>1.218297e+04</td>\n",
       "      <td>6.210320e+05</td>\n",
       "    </tr>\n",
       "    <tr>\n",
       "      <th>std</th>\n",
       "      <td>21312.163499</td>\n",
       "      <td>4.954910</td>\n",
       "      <td>5.348285e+04</td>\n",
       "      <td>1.749756e+07</td>\n",
       "    </tr>\n",
       "    <tr>\n",
       "      <th>min</th>\n",
       "      <td>0.000000</td>\n",
       "      <td>1997.000000</td>\n",
       "      <td>4.000000e-02</td>\n",
       "      <td>0.000000e+00</td>\n",
       "    </tr>\n",
       "    <tr>\n",
       "      <th>25%</th>\n",
       "      <td>18456.500000</td>\n",
       "      <td>2002.000000</td>\n",
       "      <td>8.100000e+01</td>\n",
       "      <td>8.900000e+01</td>\n",
       "    </tr>\n",
       "    <tr>\n",
       "      <th>50%</th>\n",
       "      <td>36913.000000</td>\n",
       "      <td>2006.000000</td>\n",
       "      <td>5.900000e+02</td>\n",
       "      <td>7.290000e+02</td>\n",
       "    </tr>\n",
       "    <tr>\n",
       "      <th>75%</th>\n",
       "      <td>55369.500000</td>\n",
       "      <td>2010.000000</td>\n",
       "      <td>4.500000e+03</td>\n",
       "      <td>7.200000e+03</td>\n",
       "    </tr>\n",
       "    <tr>\n",
       "      <th>max</th>\n",
       "      <td>73826.000000</td>\n",
       "      <td>2015.000000</td>\n",
       "      <td>8.580100e+06</td>\n",
       "      <td>1.125000e+09</td>\n",
       "    </tr>\n",
       "  </tbody>\n",
       "</table>\n",
       "</div>"
      ],
      "text/plain": [
       "         Unnamed: 0     Crop_Year          Area    Production\n",
       "count  73827.000000  73827.000000  7.382700e+04  7.273100e+04\n",
       "mean   36913.000000   2005.657551  1.218297e+04  6.210320e+05\n",
       "std    21312.163499      4.954910  5.348285e+04  1.749756e+07\n",
       "min        0.000000   1997.000000  4.000000e-02  0.000000e+00\n",
       "25%    18456.500000   2002.000000  8.100000e+01  8.900000e+01\n",
       "50%    36913.000000   2006.000000  5.900000e+02  7.290000e+02\n",
       "75%    55369.500000   2010.000000  4.500000e+03  7.200000e+03\n",
       "max    73826.000000   2015.000000  8.580100e+06  1.125000e+09"
      ]
     },
     "execution_count": 31,
     "metadata": {},
     "output_type": "execute_result"
    }
   ],
   "source": [
    "df.describe()"
   ]
  },
  {
   "cell_type": "markdown",
   "id": "f6304c85",
   "metadata": {},
   "source": [
    "#### 7) What is the standard deviation of production?\n",
    "##### 17,497,558.29 (approx.)\n",
    " ##### 50,857.44 (approx.)\n",
    " ##### 242,361.35 (approx.)\n",
    " ##### 582,503.45 (approx.)\n"
   ]
  },
  {
   "cell_type": "code",
   "execution_count": 33,
   "id": "1c89b97f",
   "metadata": {},
   "outputs": [
    {
     "data": {
      "text/plain": [
       "17497437.99787079"
      ]
     },
     "execution_count": 33,
     "metadata": {},
     "output_type": "execute_result"
    }
   ],
   "source": [
    "np.std(df[\"Production\"])"
   ]
  },
  {
   "cell_type": "markdown",
   "id": "9e2919bf",
   "metadata": {},
   "source": [
    "#### 8) Due to some unknown reasons, the crop production for only two states was recorded for 2015. Which states are they?\n",
    " ##### Tamil Nadu and Kerala\n",
    " ##### Kerala and Andhra Pradesh\n",
    " ##### Odisha and Sikkim\n",
    " ##### Sikkim and Punjab"
   ]
  },
  {
   "cell_type": "code",
   "execution_count": 39,
   "id": "dff7fbb5",
   "metadata": {},
   "outputs": [
    {
     "data": {
      "text/plain": [
       "State_Name\n",
       "Sikkim      12944.0\n",
       "Odisha    2101103.1\n",
       "Name: Production, dtype: float64"
      ]
     },
     "execution_count": 39,
     "metadata": {},
     "output_type": "execute_result"
    }
   ],
   "source": [
    "m=df[df[\"Crop_Year\"]==2015].groupby([\"State_Name\"])[\"Production\"].sum()\n",
    "m.sort_values()"
   ]
  },
  {
   "cell_type": "markdown",
   "id": "bdcc445a",
   "metadata": {},
   "source": [
    "#### 9) The top three produced crops in the year 2005 are ______\n",
    " ##### Wheat, Potato, Rice\n",
    " ##### Coconut, Potato, Sugarcane\n",
    " ##### Coconut, Sugarcane, Rice\n",
    " ##### Sugarcane, Rice, Wheat"
   ]
  },
  {
   "cell_type": "code",
   "execution_count": 41,
   "id": "766c8524",
   "metadata": {},
   "outputs": [
    {
     "data": {
      "text/plain": [
       "Crop\n",
       "other oilseeds             1.320000e+02\n",
       "Cardamom                   6.330000e+02\n",
       "Sannhamp                   1.520500e+03\n",
       "Oilseeds total             4.066000e+03\n",
       "Other Cereals & Millets    1.771840e+04\n",
       "Niger seed                 2.178100e+04\n",
       "Cashewnut                  2.552022e+04\n",
       "Other  Rabi pulses         3.138100e+04\n",
       "Black pepper               3.699095e+04\n",
       "Linseed                    4.511500e+04\n",
       "Other Kharif pulses        4.870190e+04\n",
       "Horse-gram                 5.050140e+04\n",
       "Moth                       5.253100e+04\n",
       "Peas & beans (Pulses)      6.438700e+04\n",
       "Tobacco                    7.230860e+04\n",
       "Small millets              9.555200e+04\n",
       "Castor seed                9.884800e+04\n",
       "Turmeric                   1.023300e+05\n",
       "Coriander                  1.072420e+05\n",
       "Safflower                  1.135730e+05\n",
       "Masoor                     1.199445e+05\n",
       "Khesari                    1.374330e+05\n",
       "Sweet potato               1.395124e+05\n",
       "Guar seed                  1.863670e+05\n",
       "Mesta                      1.913420e+05\n",
       "Urad                       1.929020e+05\n",
       "Dry chillies               2.064979e+05\n",
       "Dry ginger                 2.214940e+05\n",
       "Ragi                       2.273326e+05\n",
       "Garlic                     2.376830e+05\n",
       "Sunflower                  2.825520e+05\n",
       "Moong(Green Gram)          2.877472e+05\n",
       "Sesamum                    2.975051e+05\n",
       "Barley                     4.064190e+05\n",
       "Arecanut                   5.002335e+05\n",
       "Arhar/Tur                  9.327981e+05\n",
       "Jowar                      1.055894e+06\n",
       "Tapioca                    1.294518e+06\n",
       "Gram                       1.473350e+06\n",
       "Groundnut                  1.514708e+06\n",
       "Rapeseed &Mustard          1.836295e+06\n",
       "Jute                       1.865302e+06\n",
       "Bajra                      2.230519e+06\n",
       "Soyabean                   2.726688e+06\n",
       "Onion                      2.968874e+06\n",
       "Banana                     3.591008e+06\n",
       "Maize                      4.378044e+06\n",
       "Cotton(lint)               4.882576e+06\n",
       "Potato                     5.478746e+06\n",
       "Wheat                      1.678397e+07\n",
       "Rice                       2.874587e+07\n",
       "Sugarcane                  1.050091e+08\n",
       "Coconut                    2.700626e+09\n",
       "Name: Production, dtype: float64"
      ]
     },
     "execution_count": 41,
     "metadata": {},
     "output_type": "execute_result"
    }
   ],
   "source": [
    "n=df[df[\"Crop_Year\"]==2005].groupby([\"Crop\"])[\"Production\"].sum()\n",
    "n.sort_values()"
   ]
  },
  {
   "cell_type": "markdown",
   "id": "ad1802d5",
   "metadata": {},
   "source": [
    "#### 10) State whether the given statements are True or False\n",
    "\n",
    "##### I.Crop year and Area are weakly correlated\n",
    "##### II.Crop year and Production are strongly correlated\n",
    "\n",
    " ##### I - True, II - False\n",
    " ##### I - False, II - True\n",
    " ##### I - False, II - False\n",
    " ##### I - True, II - True"
   ]
  },
  {
   "cell_type": "code",
   "execution_count": 43,
   "id": "a1f33052",
   "metadata": {},
   "outputs": [
    {
     "data": {
      "text/html": [
       "<div>\n",
       "<style scoped>\n",
       "    .dataframe tbody tr th:only-of-type {\n",
       "        vertical-align: middle;\n",
       "    }\n",
       "\n",
       "    .dataframe tbody tr th {\n",
       "        vertical-align: top;\n",
       "    }\n",
       "\n",
       "    .dataframe thead th {\n",
       "        text-align: right;\n",
       "    }\n",
       "</style>\n",
       "<table border=\"1\" class=\"dataframe\">\n",
       "  <thead>\n",
       "    <tr style=\"text-align: right;\">\n",
       "      <th></th>\n",
       "      <th>Unnamed: 0</th>\n",
       "      <th>Crop_Year</th>\n",
       "      <th>Area</th>\n",
       "      <th>Production</th>\n",
       "    </tr>\n",
       "  </thead>\n",
       "  <tbody>\n",
       "    <tr>\n",
       "      <th>Unnamed: 0</th>\n",
       "      <td>1.000000</td>\n",
       "      <td>-0.002016</td>\n",
       "      <td>0.000864</td>\n",
       "      <td>0.001313</td>\n",
       "    </tr>\n",
       "    <tr>\n",
       "      <th>Crop_Year</th>\n",
       "      <td>-0.002016</td>\n",
       "      <td>1.000000</td>\n",
       "      <td>-0.023720</td>\n",
       "      <td>0.007422</td>\n",
       "    </tr>\n",
       "    <tr>\n",
       "      <th>Area</th>\n",
       "      <td>0.000864</td>\n",
       "      <td>-0.023720</td>\n",
       "      <td>1.000000</td>\n",
       "      <td>0.041043</td>\n",
       "    </tr>\n",
       "    <tr>\n",
       "      <th>Production</th>\n",
       "      <td>0.001313</td>\n",
       "      <td>0.007422</td>\n",
       "      <td>0.041043</td>\n",
       "      <td>1.000000</td>\n",
       "    </tr>\n",
       "  </tbody>\n",
       "</table>\n",
       "</div>"
      ],
      "text/plain": [
       "            Unnamed: 0  Crop_Year      Area  Production\n",
       "Unnamed: 0    1.000000  -0.002016  0.000864    0.001313\n",
       "Crop_Year    -0.002016   1.000000 -0.023720    0.007422\n",
       "Area          0.000864  -0.023720  1.000000    0.041043\n",
       "Production    0.001313   0.007422  0.041043    1.000000"
      ]
     },
     "execution_count": 43,
     "metadata": {},
     "output_type": "execute_result"
    }
   ],
   "source": [
    "df.corr()"
   ]
  },
  {
   "cell_type": "markdown",
   "id": "b6d6731b",
   "metadata": {},
   "source": [
    "#### 11) Which year has the lowest crop production?\n",
    " ##### 2011\n",
    " ##### 2010\n",
    " ##### 2015\n",
    " ##### 2009"
   ]
  },
  {
   "cell_type": "code",
   "execution_count": 45,
   "id": "c7b79986",
   "metadata": {},
   "outputs": [
    {
     "data": {
      "text/plain": [
       "Crop_Year\n",
       "2015    2.114047e+06\n",
       "1997    2.768054e+08\n",
       "1998    5.356398e+08\n",
       "2014    1.390088e+09\n",
       "2003    1.394080e+09\n",
       "2007    1.771568e+09\n",
       "1999    1.873175e+09\n",
       "2000    1.964593e+09\n",
       "2013    2.023688e+09\n",
       "2008    2.088889e+09\n",
       "2002    2.616621e+09\n",
       "2010    2.654638e+09\n",
       "2005    2.892020e+09\n",
       "2001    3.086705e+09\n",
       "2006    3.709813e+09\n",
       "2009    3.739178e+09\n",
       "2012    3.876649e+09\n",
       "2004    3.896185e+09\n",
       "2011    5.375825e+09\n",
       "Name: Production, dtype: float64"
      ]
     },
     "execution_count": 45,
     "metadata": {},
     "output_type": "execute_result"
    }
   ],
   "source": [
    "p=df.groupby([\"Crop_Year\"])[\"Production\"].sum()\n",
    "p.sort_values()"
   ]
  },
  {
   "cell_type": "markdown",
   "id": "5683323c",
   "metadata": {},
   "source": [
    "#### 12) The crop that Maharashtra produced the most is ________\n",
    " ##### Sugarcane\n",
    " ##### Rice\n",
    " ##### Banana\n",
    " ##### Coconut"
   ]
  },
  {
   "cell_type": "code",
   "execution_count": null,
   "id": "5bd85195",
   "metadata": {},
   "outputs": [],
   "source": [
    "df[df[\"State_Name\"]=='Maharashtra'].groupby([\"Crop\"])[\"Production\"].s"
   ]
  }
 ],
 "metadata": {
  "kernelspec": {
   "display_name": "Python 3 (ipykernel)",
   "language": "python",
   "name": "python3"
  },
  "language_info": {
   "codemirror_mode": {
    "name": "ipython",
    "version": 3
   },
   "file_extension": ".py",
   "mimetype": "text/x-python",
   "name": "python",
   "nbconvert_exporter": "python",
   "pygments_lexer": "ipython3",
   "version": "3.9.7"
  }
 },
 "nbformat": 4,
 "nbformat_minor": 5
}
