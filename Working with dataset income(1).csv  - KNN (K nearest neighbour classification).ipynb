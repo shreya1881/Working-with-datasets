{
 "cells": [
  {
   "cell_type": "code",
   "execution_count": 1,
   "id": "80321a32",
   "metadata": {},
   "outputs": [],
   "source": [
    "import pandas as pd\n",
    "import numpy as np\n",
    "import seaborn as sns\n",
    "from sklearn.model_selection import train_test_split\n",
    "from sklearn.neighbors import KNeighborsClassifier\n",
    "from sklearn.metrics import accuracy_score, confusion_matrix"
   ]
  },
  {
   "cell_type": "code",
   "execution_count": 2,
   "id": "01f758bd",
   "metadata": {},
   "outputs": [],
   "source": [
    "data=pd.read_csv('income(1).csv',na_values=[\" ?\"])"
   ]
  },
  {
   "cell_type": "code",
   "execution_count": 3,
   "id": "f6124f0c",
   "metadata": {},
   "outputs": [
    {
     "data": {
      "text/plain": [
       "age                 0\n",
       "JobType          1809\n",
       "EdType              0\n",
       "maritalstatus       0\n",
       "occupation       1816\n",
       "relationship        0\n",
       "race                0\n",
       "gender              0\n",
       "capitalgain         0\n",
       "capitalloss         0\n",
       "hoursperweek        0\n",
       "nativecountry       0\n",
       "SalStat             0\n",
       "dtype: int64"
      ]
     },
     "execution_count": 3,
     "metadata": {},
     "output_type": "execute_result"
    }
   ],
   "source": [
    "data.isnull().sum()"
   ]
  },
  {
   "cell_type": "code",
   "execution_count": 4,
   "id": "3c17b641",
   "metadata": {},
   "outputs": [],
   "source": [
    "missing=data[data.isnull().any(axis=1)]"
   ]
  },
  {
   "cell_type": "code",
   "execution_count": 5,
   "id": "0496b229",
   "metadata": {},
   "outputs": [],
   "source": [
    "data2=data.dropna(axis=0)"
   ]
  },
  {
   "cell_type": "code",
   "execution_count": 6,
   "id": "a793bdb0",
   "metadata": {},
   "outputs": [
    {
     "data": {
      "text/html": [
       "<div>\n",
       "<style scoped>\n",
       "    .dataframe tbody tr th:only-of-type {\n",
       "        vertical-align: middle;\n",
       "    }\n",
       "\n",
       "    .dataframe tbody tr th {\n",
       "        vertical-align: top;\n",
       "    }\n",
       "\n",
       "    .dataframe thead th {\n",
       "        text-align: right;\n",
       "    }\n",
       "</style>\n",
       "<table border=\"1\" class=\"dataframe\">\n",
       "  <thead>\n",
       "    <tr style=\"text-align: right;\">\n",
       "      <th></th>\n",
       "      <th>age</th>\n",
       "      <th>JobType</th>\n",
       "      <th>EdType</th>\n",
       "      <th>maritalstatus</th>\n",
       "      <th>occupation</th>\n",
       "      <th>relationship</th>\n",
       "      <th>race</th>\n",
       "      <th>gender</th>\n",
       "      <th>capitalgain</th>\n",
       "      <th>capitalloss</th>\n",
       "      <th>hoursperweek</th>\n",
       "      <th>nativecountry</th>\n",
       "      <th>SalStat</th>\n",
       "    </tr>\n",
       "  </thead>\n",
       "  <tbody>\n",
       "    <tr>\n",
       "      <th>0</th>\n",
       "      <td>45</td>\n",
       "      <td>Private</td>\n",
       "      <td>HS-grad</td>\n",
       "      <td>Divorced</td>\n",
       "      <td>Adm-clerical</td>\n",
       "      <td>Not-in-family</td>\n",
       "      <td>White</td>\n",
       "      <td>Female</td>\n",
       "      <td>0</td>\n",
       "      <td>0</td>\n",
       "      <td>28</td>\n",
       "      <td>United-States</td>\n",
       "      <td>less than or equal to 50,000</td>\n",
       "    </tr>\n",
       "    <tr>\n",
       "      <th>1</th>\n",
       "      <td>24</td>\n",
       "      <td>Federal-gov</td>\n",
       "      <td>HS-grad</td>\n",
       "      <td>Never-married</td>\n",
       "      <td>Armed-Forces</td>\n",
       "      <td>Own-child</td>\n",
       "      <td>White</td>\n",
       "      <td>Male</td>\n",
       "      <td>0</td>\n",
       "      <td>0</td>\n",
       "      <td>40</td>\n",
       "      <td>United-States</td>\n",
       "      <td>less than or equal to 50,000</td>\n",
       "    </tr>\n",
       "    <tr>\n",
       "      <th>2</th>\n",
       "      <td>44</td>\n",
       "      <td>Private</td>\n",
       "      <td>Some-college</td>\n",
       "      <td>Married-civ-spouse</td>\n",
       "      <td>Prof-specialty</td>\n",
       "      <td>Husband</td>\n",
       "      <td>White</td>\n",
       "      <td>Male</td>\n",
       "      <td>0</td>\n",
       "      <td>0</td>\n",
       "      <td>40</td>\n",
       "      <td>United-States</td>\n",
       "      <td>greater than 50,000</td>\n",
       "    </tr>\n",
       "    <tr>\n",
       "      <th>3</th>\n",
       "      <td>27</td>\n",
       "      <td>Private</td>\n",
       "      <td>9th</td>\n",
       "      <td>Never-married</td>\n",
       "      <td>Craft-repair</td>\n",
       "      <td>Other-relative</td>\n",
       "      <td>White</td>\n",
       "      <td>Male</td>\n",
       "      <td>0</td>\n",
       "      <td>0</td>\n",
       "      <td>40</td>\n",
       "      <td>Mexico</td>\n",
       "      <td>less than or equal to 50,000</td>\n",
       "    </tr>\n",
       "    <tr>\n",
       "      <th>4</th>\n",
       "      <td>20</td>\n",
       "      <td>Private</td>\n",
       "      <td>Some-college</td>\n",
       "      <td>Never-married</td>\n",
       "      <td>Sales</td>\n",
       "      <td>Not-in-family</td>\n",
       "      <td>White</td>\n",
       "      <td>Male</td>\n",
       "      <td>0</td>\n",
       "      <td>0</td>\n",
       "      <td>35</td>\n",
       "      <td>United-States</td>\n",
       "      <td>less than or equal to 50,000</td>\n",
       "    </tr>\n",
       "    <tr>\n",
       "      <th>...</th>\n",
       "      <td>...</td>\n",
       "      <td>...</td>\n",
       "      <td>...</td>\n",
       "      <td>...</td>\n",
       "      <td>...</td>\n",
       "      <td>...</td>\n",
       "      <td>...</td>\n",
       "      <td>...</td>\n",
       "      <td>...</td>\n",
       "      <td>...</td>\n",
       "      <td>...</td>\n",
       "      <td>...</td>\n",
       "      <td>...</td>\n",
       "    </tr>\n",
       "    <tr>\n",
       "      <th>31973</th>\n",
       "      <td>34</td>\n",
       "      <td>Local-gov</td>\n",
       "      <td>HS-grad</td>\n",
       "      <td>Never-married</td>\n",
       "      <td>Farming-fishing</td>\n",
       "      <td>Not-in-family</td>\n",
       "      <td>Black</td>\n",
       "      <td>Male</td>\n",
       "      <td>594</td>\n",
       "      <td>0</td>\n",
       "      <td>60</td>\n",
       "      <td>United-States</td>\n",
       "      <td>less than or equal to 50,000</td>\n",
       "    </tr>\n",
       "    <tr>\n",
       "      <th>31974</th>\n",
       "      <td>34</td>\n",
       "      <td>Local-gov</td>\n",
       "      <td>Some-college</td>\n",
       "      <td>Never-married</td>\n",
       "      <td>Protective-serv</td>\n",
       "      <td>Not-in-family</td>\n",
       "      <td>White</td>\n",
       "      <td>Female</td>\n",
       "      <td>0</td>\n",
       "      <td>0</td>\n",
       "      <td>40</td>\n",
       "      <td>United-States</td>\n",
       "      <td>less than or equal to 50,000</td>\n",
       "    </tr>\n",
       "    <tr>\n",
       "      <th>31975</th>\n",
       "      <td>23</td>\n",
       "      <td>Private</td>\n",
       "      <td>Some-college</td>\n",
       "      <td>Married-civ-spouse</td>\n",
       "      <td>Adm-clerical</td>\n",
       "      <td>Husband</td>\n",
       "      <td>White</td>\n",
       "      <td>Male</td>\n",
       "      <td>0</td>\n",
       "      <td>0</td>\n",
       "      <td>40</td>\n",
       "      <td>United-States</td>\n",
       "      <td>less than or equal to 50,000</td>\n",
       "    </tr>\n",
       "    <tr>\n",
       "      <th>31976</th>\n",
       "      <td>42</td>\n",
       "      <td>Local-gov</td>\n",
       "      <td>Some-college</td>\n",
       "      <td>Married-civ-spouse</td>\n",
       "      <td>Adm-clerical</td>\n",
       "      <td>Wife</td>\n",
       "      <td>White</td>\n",
       "      <td>Female</td>\n",
       "      <td>0</td>\n",
       "      <td>0</td>\n",
       "      <td>40</td>\n",
       "      <td>United-States</td>\n",
       "      <td>less than or equal to 50,000</td>\n",
       "    </tr>\n",
       "    <tr>\n",
       "      <th>31977</th>\n",
       "      <td>29</td>\n",
       "      <td>Private</td>\n",
       "      <td>Bachelors</td>\n",
       "      <td>Never-married</td>\n",
       "      <td>Prof-specialty</td>\n",
       "      <td>Not-in-family</td>\n",
       "      <td>White</td>\n",
       "      <td>Male</td>\n",
       "      <td>0</td>\n",
       "      <td>0</td>\n",
       "      <td>40</td>\n",
       "      <td>United-States</td>\n",
       "      <td>less than or equal to 50,000</td>\n",
       "    </tr>\n",
       "  </tbody>\n",
       "</table>\n",
       "<p>30162 rows × 13 columns</p>\n",
       "</div>"
      ],
      "text/plain": [
       "       age       JobType         EdType        maritalstatus  \\\n",
       "0       45       Private        HS-grad             Divorced   \n",
       "1       24   Federal-gov        HS-grad        Never-married   \n",
       "2       44       Private   Some-college   Married-civ-spouse   \n",
       "3       27       Private            9th        Never-married   \n",
       "4       20       Private   Some-college        Never-married   \n",
       "...    ...           ...            ...                  ...   \n",
       "31973   34     Local-gov        HS-grad        Never-married   \n",
       "31974   34     Local-gov   Some-college        Never-married   \n",
       "31975   23       Private   Some-college   Married-civ-spouse   \n",
       "31976   42     Local-gov   Some-college   Married-civ-spouse   \n",
       "31977   29       Private      Bachelors        Never-married   \n",
       "\n",
       "             occupation     relationship    race   gender  capitalgain  \\\n",
       "0          Adm-clerical    Not-in-family   White   Female            0   \n",
       "1          Armed-Forces        Own-child   White     Male            0   \n",
       "2        Prof-specialty          Husband   White     Male            0   \n",
       "3          Craft-repair   Other-relative   White     Male            0   \n",
       "4                 Sales    Not-in-family   White     Male            0   \n",
       "...                 ...              ...     ...      ...          ...   \n",
       "31973   Farming-fishing    Not-in-family   Black     Male          594   \n",
       "31974   Protective-serv    Not-in-family   White   Female            0   \n",
       "31975      Adm-clerical          Husband   White     Male            0   \n",
       "31976      Adm-clerical             Wife   White   Female            0   \n",
       "31977    Prof-specialty    Not-in-family   White     Male            0   \n",
       "\n",
       "       capitalloss  hoursperweek   nativecountry  \\\n",
       "0                0            28   United-States   \n",
       "1                0            40   United-States   \n",
       "2                0            40   United-States   \n",
       "3                0            40          Mexico   \n",
       "4                0            35   United-States   \n",
       "...            ...           ...             ...   \n",
       "31973            0            60   United-States   \n",
       "31974            0            40   United-States   \n",
       "31975            0            40   United-States   \n",
       "31976            0            40   United-States   \n",
       "31977            0            40   United-States   \n",
       "\n",
       "                             SalStat  \n",
       "0       less than or equal to 50,000  \n",
       "1       less than or equal to 50,000  \n",
       "2                greater than 50,000  \n",
       "3       less than or equal to 50,000  \n",
       "4       less than or equal to 50,000  \n",
       "...                              ...  \n",
       "31973   less than or equal to 50,000  \n",
       "31974   less than or equal to 50,000  \n",
       "31975   less than or equal to 50,000  \n",
       "31976   less than or equal to 50,000  \n",
       "31977   less than or equal to 50,000  \n",
       "\n",
       "[30162 rows x 13 columns]"
      ]
     },
     "execution_count": 6,
     "metadata": {},
     "output_type": "execute_result"
    }
   ],
   "source": [
    "data2\n"
   ]
  },
  {
   "cell_type": "code",
   "execution_count": 7,
   "id": "30bf483b",
   "metadata": {},
   "outputs": [
    {
     "name": "stdout",
     "output_type": "stream",
     "text": [
      "0        0\n",
      "1        0\n",
      "2        1\n",
      "3        0\n",
      "4        0\n",
      "        ..\n",
      "31973    0\n",
      "31974    0\n",
      "31975    0\n",
      "31976    0\n",
      "31977    0\n",
      "Name: SalStat, Length: 30162, dtype: int64\n"
     ]
    },
    {
     "name": "stderr",
     "output_type": "stream",
     "text": [
      "C:\\Users\\SHREYA~1\\AppData\\Local\\Temp/ipykernel_13596/784685041.py:1: SettingWithCopyWarning: \n",
      "A value is trying to be set on a copy of a slice from a DataFrame.\n",
      "Try using .loc[row_indexer,col_indexer] = value instead\n",
      "\n",
      "See the caveats in the documentation: https://pandas.pydata.org/pandas-docs/stable/user_guide/indexing.html#returning-a-view-versus-a-copy\n",
      "  data2['SalStat']=data2['SalStat'].map({' less than or equal to 50,000':0,' greater than 50,000':1})\n"
     ]
    }
   ],
   "source": [
    "data2['SalStat']=data2['SalStat'].map({' less than or equal to 50,000':0,' greater than 50,000':1})\n",
    "print(data2['SalStat'])"
   ]
  },
  {
   "cell_type": "code",
   "execution_count": 10,
   "id": "ce142e66",
   "metadata": {},
   "outputs": [],
   "source": [
    "new_data=pd.get_dummies(data2, drop_first=True)"
   ]
  },
  {
   "cell_type": "code",
   "execution_count": 11,
   "id": "69a38509",
   "metadata": {},
   "outputs": [
    {
     "name": "stdout",
     "output_type": "stream",
     "text": [
      "['age', 'capitalgain', 'capitalloss', 'hoursperweek', 'SalStat', 'JobType_ Local-gov', 'JobType_ Private', 'JobType_ Self-emp-inc', 'JobType_ Self-emp-not-inc', 'JobType_ State-gov', 'JobType_ Without-pay', 'EdType_ 11th', 'EdType_ 12th', 'EdType_ 1st-4th', 'EdType_ 5th-6th', 'EdType_ 7th-8th', 'EdType_ 9th', 'EdType_ Assoc-acdm', 'EdType_ Assoc-voc', 'EdType_ Bachelors', 'EdType_ Doctorate', 'EdType_ HS-grad', 'EdType_ Masters', 'EdType_ Preschool', 'EdType_ Prof-school', 'EdType_ Some-college', 'maritalstatus_ Married-AF-spouse', 'maritalstatus_ Married-civ-spouse', 'maritalstatus_ Married-spouse-absent', 'maritalstatus_ Never-married', 'maritalstatus_ Separated', 'maritalstatus_ Widowed', 'occupation_ Armed-Forces', 'occupation_ Craft-repair', 'occupation_ Exec-managerial', 'occupation_ Farming-fishing', 'occupation_ Handlers-cleaners', 'occupation_ Machine-op-inspct', 'occupation_ Other-service', 'occupation_ Priv-house-serv', 'occupation_ Prof-specialty', 'occupation_ Protective-serv', 'occupation_ Sales', 'occupation_ Tech-support', 'occupation_ Transport-moving', 'relationship_ Not-in-family', 'relationship_ Other-relative', 'relationship_ Own-child', 'relationship_ Unmarried', 'relationship_ Wife', 'race_ Asian-Pac-Islander', 'race_ Black', 'race_ Other', 'race_ White', 'gender_ Male', 'nativecountry_ Canada', 'nativecountry_ China', 'nativecountry_ Columbia', 'nativecountry_ Cuba', 'nativecountry_ Dominican-Republic', 'nativecountry_ Ecuador', 'nativecountry_ El-Salvador', 'nativecountry_ England', 'nativecountry_ France', 'nativecountry_ Germany', 'nativecountry_ Greece', 'nativecountry_ Guatemala', 'nativecountry_ Haiti', 'nativecountry_ Holand-Netherlands', 'nativecountry_ Honduras', 'nativecountry_ Hong', 'nativecountry_ Hungary', 'nativecountry_ India', 'nativecountry_ Iran', 'nativecountry_ Ireland', 'nativecountry_ Italy', 'nativecountry_ Jamaica', 'nativecountry_ Japan', 'nativecountry_ Laos', 'nativecountry_ Mexico', 'nativecountry_ Nicaragua', 'nativecountry_ Outlying-US(Guam-USVI-etc)', 'nativecountry_ Peru', 'nativecountry_ Philippines', 'nativecountry_ Poland', 'nativecountry_ Portugal', 'nativecountry_ Puerto-Rico', 'nativecountry_ Scotland', 'nativecountry_ South', 'nativecountry_ Taiwan', 'nativecountry_ Thailand', 'nativecountry_ Trinadad&Tobago', 'nativecountry_ United-States', 'nativecountry_ Vietnam', 'nativecountry_ Yugoslavia']\n"
     ]
    }
   ],
   "source": [
    "columns_list = list(new_data.columns)\n",
    "print(columns_list)"
   ]
  },
  {
   "cell_type": "code",
   "execution_count": 12,
   "id": "277f8a0a",
   "metadata": {},
   "outputs": [
    {
     "name": "stdout",
     "output_type": "stream",
     "text": [
      "['EdType_ Prof-school', 'nativecountry_ El-Salvador', 'nativecountry_ Vietnam', 'relationship_ Not-in-family', 'occupation_ Protective-serv', 'occupation_ Craft-repair', 'nativecountry_ Cuba', 'relationship_ Wife', 'occupation_ Transport-moving', 'occupation_ Sales', 'race_ Asian-Pac-Islander', 'nativecountry_ Guatemala', 'nativecountry_ Iran', 'maritalstatus_ Widowed', 'EdType_ 9th', 'nativecountry_ Yugoslavia', 'race_ Black', 'race_ Other', 'JobType_ State-gov', 'nativecountry_ France', 'EdType_ Doctorate', 'EdType_ Masters', 'occupation_ Tech-support', 'EdType_ 7th-8th', 'nativecountry_ Hong', 'nativecountry_ Italy', 'occupation_ Priv-house-serv', 'nativecountry_ Peru', 'EdType_ Some-college', 'JobType_ Self-emp-not-inc', 'relationship_ Own-child', 'nativecountry_ Dominican-Republic', 'hoursperweek', 'nativecountry_ Laos', 'nativecountry_ Mexico', 'nativecountry_ China', 'nativecountry_ Japan', 'JobType_ Without-pay', 'nativecountry_ Germany', 'occupation_ Armed-Forces', 'nativecountry_ Columbia', 'EdType_ 11th', 'EdType_ 1st-4th', 'occupation_ Exec-managerial', 'nativecountry_ Puerto-Rico', 'maritalstatus_ Married-AF-spouse', 'EdType_ Assoc-acdm', 'nativecountry_ Ireland', 'nativecountry_ Portugal', 'nativecountry_ Honduras', 'nativecountry_ Poland', 'race_ White', 'EdType_ Assoc-voc', 'EdType_ 5th-6th', 'nativecountry_ Hungary', 'nativecountry_ Philippines', 'nativecountry_ Taiwan', 'nativecountry_ Thailand', 'EdType_ Bachelors', 'nativecountry_ Scotland', 'nativecountry_ Trinadad&Tobago', 'nativecountry_ India', 'nativecountry_ Ecuador', 'relationship_ Unmarried', 'occupation_ Other-service', 'occupation_ Prof-specialty', 'gender_ Male', 'nativecountry_ Greece', 'EdType_ Preschool', 'JobType_ Self-emp-inc', 'occupation_ Handlers-cleaners', 'relationship_ Other-relative', 'nativecountry_ Canada', 'nativecountry_ Haiti', 'nativecountry_ England', 'EdType_ 12th', 'nativecountry_ United-States', 'nativecountry_ Holand-Netherlands', 'nativecountry_ Jamaica', 'maritalstatus_ Married-spouse-absent', 'JobType_ Local-gov', 'age', 'maritalstatus_ Never-married', 'nativecountry_ Nicaragua', 'nativecountry_ Outlying-US(Guam-USVI-etc)', 'JobType_ Private', 'EdType_ HS-grad', 'occupation_ Machine-op-inspct', 'nativecountry_ South', 'capitalloss', 'maritalstatus_ Separated', 'occupation_ Farming-fishing', 'maritalstatus_ Married-civ-spouse', 'capitalgain']\n"
     ]
    }
   ],
   "source": [
    "features = list(set(columns_list)-set(['SalStat']))\n",
    "print(features)"
   ]
  },
  {
   "cell_type": "code",
   "execution_count": 13,
   "id": "bba83d20",
   "metadata": {},
   "outputs": [
    {
     "name": "stdout",
     "output_type": "stream",
     "text": [
      "[0 0 1 ... 0 0 0]\n"
     ]
    }
   ],
   "source": [
    "y=new_data['SalStat'].values\n",
    "print(y)"
   ]
  },
  {
   "cell_type": "code",
   "execution_count": 14,
   "id": "57f16576",
   "metadata": {},
   "outputs": [
    {
     "name": "stdout",
     "output_type": "stream",
     "text": [
      "[[0 0 0 ... 0 0 0]\n",
      " [0 0 0 ... 0 0 0]\n",
      " [0 0 0 ... 0 1 0]\n",
      " ...\n",
      " [0 0 0 ... 0 1 0]\n",
      " [0 0 0 ... 0 1 0]\n",
      " [0 0 0 ... 0 0 0]]\n"
     ]
    }
   ],
   "source": [
    "x=new_data[features].values\n",
    "print(x)"
   ]
  },
  {
   "cell_type": "code",
   "execution_count": 15,
   "id": "dda0f901",
   "metadata": {},
   "outputs": [],
   "source": [
    "x_train,x_test,y_train,y_test=train_test_split(x,y,test_size=0.3, random_state=0)"
   ]
  },
  {
   "cell_type": "code",
   "execution_count": 17,
   "id": "c7fa26f9",
   "metadata": {},
   "outputs": [],
   "source": [
    "KNN_classifier = KNeighborsClassifier(n_neighbors = 5)"
   ]
  },
  {
   "cell_type": "code",
   "execution_count": 18,
   "id": "2a1e60f6",
   "metadata": {},
   "outputs": [
    {
     "data": {
      "text/plain": [
       "KNeighborsClassifier()"
      ]
     },
     "execution_count": 18,
     "metadata": {},
     "output_type": "execute_result"
    }
   ],
   "source": [
    "KNN_classifier.fit(x_train, y_train)"
   ]
  },
  {
   "cell_type": "code",
   "execution_count": 20,
   "id": "934688c0",
   "metadata": {},
   "outputs": [],
   "source": [
    "prediction = KNN_classifier.predict(x_test)"
   ]
  },
  {
   "cell_type": "code",
   "execution_count": 21,
   "id": "2b5b07b6",
   "metadata": {},
   "outputs": [],
   "source": [
    "confusionMmatrix = confusion_matrix(y_test,prediction)"
   ]
  },
  {
   "cell_type": "code",
   "execution_count": 22,
   "id": "3100a688",
   "metadata": {},
   "outputs": [
    {
     "name": "stdout",
     "output_type": "stream",
     "text": [
      "[[6173  650]\n",
      " [ 843 1383]]\n"
     ]
    }
   ],
   "source": [
    "print(confusionMmatrix)"
   ]
  },
  {
   "cell_type": "code",
   "execution_count": 23,
   "id": "e870e118",
   "metadata": {},
   "outputs": [
    {
     "name": "stdout",
     "output_type": "stream",
     "text": [
      "0.8350093933031274\n"
     ]
    }
   ],
   "source": [
    "accuracy_score = accuracy_score(y_test, prediction)\n",
    "print(accuracy_score)"
   ]
  },
  {
   "cell_type": "code",
   "execution_count": 24,
   "id": "1b37ef88",
   "metadata": {},
   "outputs": [
    {
     "name": "stdout",
     "output_type": "stream",
     "text": [
      "Misclassified samples: 1493\n"
     ]
    }
   ],
   "source": [
    "print('Misclassified samples: %d' % (y_test != prediction).sum())"
   ]
  },
  {
   "cell_type": "code",
   "execution_count": 25,
   "id": "6127a235",
   "metadata": {},
   "outputs": [
    {
     "name": "stdout",
     "output_type": "stream",
     "text": [
      "[1766, 1516, 1515, 1436, 1493, 1438, 1451, 1432, 1458, 1436, 1441, 1447, 1451, 1423, 1413, 1390, 1424, 1396, 1434]\n"
     ]
    }
   ],
   "source": [
    "Misclassified_sample = []\n",
    "for i in range(1,20):\n",
    "    knn = KNeighborsClassifier (n_neighbors=i)\n",
    "    knn.fit(x_train, y_train)\n",
    "    pred_i = knn.predict(x_test)\n",
    "    Misclassified_sample.append((y_test != pred_i).sum())\n",
    "print(Misclassified_sample)"
   ]
  },
  {
   "cell_type": "code",
   "execution_count": null,
   "id": "8dfa19ec",
   "metadata": {},
   "outputs": [],
   "source": []
  }
 ],
 "metadata": {
  "kernelspec": {
   "display_name": "Python 3 (ipykernel)",
   "language": "python",
   "name": "python3"
  },
  "language_info": {
   "codemirror_mode": {
    "name": "ipython",
    "version": 3
   },
   "file_extension": ".py",
   "mimetype": "text/x-python",
   "name": "python",
   "nbconvert_exporter": "python",
   "pygments_lexer": "ipython3",
   "version": "3.9.7"
  }
 },
 "nbformat": 4,
 "nbformat_minor": 5
}
