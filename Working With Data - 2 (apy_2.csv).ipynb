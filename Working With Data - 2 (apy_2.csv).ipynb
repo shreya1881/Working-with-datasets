{
 "cells": [
  {
   "cell_type": "markdown",
   "id": "fbbfcb78",
   "metadata": {},
   "source": [
    "### i.Read the given dataset apy_2.csv\n",
    "### ii.Drop the rows with missing values, if any"
   ]
  },
  {
   "cell_type": "code",
   "execution_count": 1,
   "id": "f1eb36e6",
   "metadata": {},
   "outputs": [],
   "source": [
    "import pandas as pd\n",
    "import numpy as np"
   ]
  },
  {
   "cell_type": "code",
   "execution_count": 2,
   "id": "2a3ec6c5",
   "metadata": {},
   "outputs": [],
   "source": [
    "df=pd.read_csv('apy_2.csv')"
   ]
  },
  {
   "cell_type": "code",
   "execution_count": 3,
   "id": "5ef97abb",
   "metadata": {},
   "outputs": [
    {
     "data": {
      "text/html": [
       "<div>\n",
       "<style scoped>\n",
       "    .dataframe tbody tr th:only-of-type {\n",
       "        vertical-align: middle;\n",
       "    }\n",
       "\n",
       "    .dataframe tbody tr th {\n",
       "        vertical-align: top;\n",
       "    }\n",
       "\n",
       "    .dataframe thead th {\n",
       "        text-align: right;\n",
       "    }\n",
       "</style>\n",
       "<table border=\"1\" class=\"dataframe\">\n",
       "  <thead>\n",
       "    <tr style=\"text-align: right;\">\n",
       "      <th></th>\n",
       "      <th>Unnamed: 0</th>\n",
       "      <th>State_Name</th>\n",
       "      <th>District_Name</th>\n",
       "      <th>Crop_Year</th>\n",
       "      <th>Season</th>\n",
       "      <th>Crop</th>\n",
       "      <th>Area</th>\n",
       "      <th>Production</th>\n",
       "    </tr>\n",
       "  </thead>\n",
       "  <tbody>\n",
       "    <tr>\n",
       "      <th>0</th>\n",
       "      <td>0</td>\n",
       "      <td>Karnataka</td>\n",
       "      <td>UDUPI</td>\n",
       "      <td>2005</td>\n",
       "      <td>Rabi</td>\n",
       "      <td>Horse-gram</td>\n",
       "      <td>1122.0</td>\n",
       "      <td>836.0</td>\n",
       "    </tr>\n",
       "    <tr>\n",
       "      <th>1</th>\n",
       "      <td>1</td>\n",
       "      <td>Madhya Pradesh</td>\n",
       "      <td>GWALIOR</td>\n",
       "      <td>2003</td>\n",
       "      <td>Whole Year</td>\n",
       "      <td>Brinjal</td>\n",
       "      <td>194.0</td>\n",
       "      <td>0.0</td>\n",
       "    </tr>\n",
       "    <tr>\n",
       "      <th>2</th>\n",
       "      <td>2</td>\n",
       "      <td>Andhra Pradesh</td>\n",
       "      <td>CHITTOOR</td>\n",
       "      <td>2010</td>\n",
       "      <td>Rabi</td>\n",
       "      <td>Sesamum</td>\n",
       "      <td>334.0</td>\n",
       "      <td>118.0</td>\n",
       "    </tr>\n",
       "    <tr>\n",
       "      <th>3</th>\n",
       "      <td>3</td>\n",
       "      <td>Andhra Pradesh</td>\n",
       "      <td>KRISHNA</td>\n",
       "      <td>2014</td>\n",
       "      <td>Rabi</td>\n",
       "      <td>Tomato</td>\n",
       "      <td>538.0</td>\n",
       "      <td>7289.0</td>\n",
       "    </tr>\n",
       "    <tr>\n",
       "      <th>4</th>\n",
       "      <td>4</td>\n",
       "      <td>Uttar Pradesh</td>\n",
       "      <td>SULTANPUR</td>\n",
       "      <td>2011</td>\n",
       "      <td>Rabi</td>\n",
       "      <td>Coriander</td>\n",
       "      <td>59.0</td>\n",
       "      <td>33.0</td>\n",
       "    </tr>\n",
       "    <tr>\n",
       "      <th>...</th>\n",
       "      <td>...</td>\n",
       "      <td>...</td>\n",
       "      <td>...</td>\n",
       "      <td>...</td>\n",
       "      <td>...</td>\n",
       "      <td>...</td>\n",
       "      <td>...</td>\n",
       "      <td>...</td>\n",
       "    </tr>\n",
       "    <tr>\n",
       "      <th>73822</th>\n",
       "      <td>73822</td>\n",
       "      <td>Uttar Pradesh</td>\n",
       "      <td>SULTANPUR</td>\n",
       "      <td>2001</td>\n",
       "      <td>Rabi</td>\n",
       "      <td>Rapeseed &amp;Mustard</td>\n",
       "      <td>3727.0</td>\n",
       "      <td>3239.0</td>\n",
       "    </tr>\n",
       "    <tr>\n",
       "      <th>73823</th>\n",
       "      <td>73823</td>\n",
       "      <td>Chhattisgarh</td>\n",
       "      <td>DURG</td>\n",
       "      <td>2014</td>\n",
       "      <td>Rabi</td>\n",
       "      <td>Wheat</td>\n",
       "      <td>6364.0</td>\n",
       "      <td>7367.0</td>\n",
       "    </tr>\n",
       "    <tr>\n",
       "      <th>73824</th>\n",
       "      <td>73824</td>\n",
       "      <td>Uttar Pradesh</td>\n",
       "      <td>RAE BARELI</td>\n",
       "      <td>2010</td>\n",
       "      <td>Summer</td>\n",
       "      <td>Moong(Green Gram)</td>\n",
       "      <td>489.0</td>\n",
       "      <td>224.0</td>\n",
       "    </tr>\n",
       "    <tr>\n",
       "      <th>73825</th>\n",
       "      <td>73825</td>\n",
       "      <td>Assam</td>\n",
       "      <td>KAMRUP</td>\n",
       "      <td>1998</td>\n",
       "      <td>Rabi</td>\n",
       "      <td>Wheat</td>\n",
       "      <td>6431.0</td>\n",
       "      <td>6940.0</td>\n",
       "    </tr>\n",
       "    <tr>\n",
       "      <th>73826</th>\n",
       "      <td>73826</td>\n",
       "      <td>Andhra Pradesh</td>\n",
       "      <td>GUNTUR</td>\n",
       "      <td>2005</td>\n",
       "      <td>Rabi</td>\n",
       "      <td>Urad</td>\n",
       "      <td>100125.0</td>\n",
       "      <td>78298.0</td>\n",
       "    </tr>\n",
       "  </tbody>\n",
       "</table>\n",
       "<p>73827 rows × 8 columns</p>\n",
       "</div>"
      ],
      "text/plain": [
       "       Unnamed: 0      State_Name District_Name  Crop_Year       Season  \\\n",
       "0               0       Karnataka         UDUPI       2005  Rabi          \n",
       "1               1  Madhya Pradesh       GWALIOR       2003  Whole Year    \n",
       "2               2  Andhra Pradesh      CHITTOOR       2010  Rabi          \n",
       "3               3  Andhra Pradesh       KRISHNA       2014  Rabi          \n",
       "4               4   Uttar Pradesh     SULTANPUR       2011  Rabi          \n",
       "...           ...             ...           ...        ...          ...   \n",
       "73822       73822   Uttar Pradesh     SULTANPUR       2001  Rabi          \n",
       "73823       73823    Chhattisgarh          DURG       2014  Rabi          \n",
       "73824       73824   Uttar Pradesh    RAE BARELI       2010  Summer        \n",
       "73825       73825           Assam        KAMRUP       1998  Rabi          \n",
       "73826       73826  Andhra Pradesh        GUNTUR       2005  Rabi          \n",
       "\n",
       "                    Crop      Area  Production  \n",
       "0             Horse-gram    1122.0       836.0  \n",
       "1                Brinjal     194.0         0.0  \n",
       "2                Sesamum     334.0       118.0  \n",
       "3                 Tomato     538.0      7289.0  \n",
       "4              Coriander      59.0        33.0  \n",
       "...                  ...       ...         ...  \n",
       "73822  Rapeseed &Mustard    3727.0      3239.0  \n",
       "73823              Wheat    6364.0      7367.0  \n",
       "73824  Moong(Green Gram)     489.0       224.0  \n",
       "73825              Wheat    6431.0      6940.0  \n",
       "73826               Urad  100125.0     78298.0  \n",
       "\n",
       "[73827 rows x 8 columns]"
      ]
     },
     "execution_count": 3,
     "metadata": {},
     "output_type": "execute_result"
    }
   ],
   "source": [
    "df"
   ]
  },
  {
   "cell_type": "code",
   "execution_count": 4,
   "id": "37fa9904",
   "metadata": {},
   "outputs": [
    {
     "name": "stdout",
     "output_type": "stream",
     "text": [
      "<class 'pandas.core.frame.DataFrame'>\n",
      "RangeIndex: 73827 entries, 0 to 73826\n",
      "Data columns (total 8 columns):\n",
      " #   Column         Non-Null Count  Dtype  \n",
      "---  ------         --------------  -----  \n",
      " 0   Unnamed: 0     73827 non-null  int64  \n",
      " 1   State_Name     73827 non-null  object \n",
      " 2   District_Name  73827 non-null  object \n",
      " 3   Crop_Year      73827 non-null  int64  \n",
      " 4   Season         73827 non-null  object \n",
      " 5   Crop           73827 non-null  object \n",
      " 6   Area           73827 non-null  float64\n",
      " 7   Production     72679 non-null  float64\n",
      "dtypes: float64(2), int64(2), object(4)\n",
      "memory usage: 4.5+ MB\n"
     ]
    }
   ],
   "source": [
    "df.info()"
   ]
  },
  {
   "cell_type": "code",
   "execution_count": 5,
   "id": "27c9c099",
   "metadata": {},
   "outputs": [
    {
     "data": {
      "text/html": [
       "<div>\n",
       "<style scoped>\n",
       "    .dataframe tbody tr th:only-of-type {\n",
       "        vertical-align: middle;\n",
       "    }\n",
       "\n",
       "    .dataframe tbody tr th {\n",
       "        vertical-align: top;\n",
       "    }\n",
       "\n",
       "    .dataframe thead th {\n",
       "        text-align: right;\n",
       "    }\n",
       "</style>\n",
       "<table border=\"1\" class=\"dataframe\">\n",
       "  <thead>\n",
       "    <tr style=\"text-align: right;\">\n",
       "      <th></th>\n",
       "      <th>Unnamed: 0</th>\n",
       "      <th>Crop_Year</th>\n",
       "      <th>Area</th>\n",
       "      <th>Production</th>\n",
       "    </tr>\n",
       "  </thead>\n",
       "  <tbody>\n",
       "    <tr>\n",
       "      <th>count</th>\n",
       "      <td>73827.000000</td>\n",
       "      <td>73827.000000</td>\n",
       "      <td>7.382700e+04</td>\n",
       "      <td>7.267900e+04</td>\n",
       "    </tr>\n",
       "    <tr>\n",
       "      <th>mean</th>\n",
       "      <td>36913.000000</td>\n",
       "      <td>2005.618134</td>\n",
       "      <td>1.186849e+04</td>\n",
       "      <td>4.426138e+05</td>\n",
       "    </tr>\n",
       "    <tr>\n",
       "      <th>std</th>\n",
       "      <td>21312.163499</td>\n",
       "      <td>4.957966</td>\n",
       "      <td>4.884827e+04</td>\n",
       "      <td>1.346706e+07</td>\n",
       "    </tr>\n",
       "    <tr>\n",
       "      <th>min</th>\n",
       "      <td>0.000000</td>\n",
       "      <td>1997.000000</td>\n",
       "      <td>5.000000e-02</td>\n",
       "      <td>0.000000e+00</td>\n",
       "    </tr>\n",
       "    <tr>\n",
       "      <th>25%</th>\n",
       "      <td>18456.500000</td>\n",
       "      <td>2002.000000</td>\n",
       "      <td>7.900000e+01</td>\n",
       "      <td>8.600000e+01</td>\n",
       "    </tr>\n",
       "    <tr>\n",
       "      <th>50%</th>\n",
       "      <td>36913.000000</td>\n",
       "      <td>2006.000000</td>\n",
       "      <td>5.730000e+02</td>\n",
       "      <td>7.240000e+02</td>\n",
       "    </tr>\n",
       "    <tr>\n",
       "      <th>75%</th>\n",
       "      <td>55369.500000</td>\n",
       "      <td>2010.000000</td>\n",
       "      <td>4.335000e+03</td>\n",
       "      <td>6.900000e+03</td>\n",
       "    </tr>\n",
       "    <tr>\n",
       "      <th>max</th>\n",
       "      <td>73826.000000</td>\n",
       "      <td>2015.000000</td>\n",
       "      <td>4.205800e+06</td>\n",
       "      <td>1.001000e+09</td>\n",
       "    </tr>\n",
       "  </tbody>\n",
       "</table>\n",
       "</div>"
      ],
      "text/plain": [
       "         Unnamed: 0     Crop_Year          Area    Production\n",
       "count  73827.000000  73827.000000  7.382700e+04  7.267900e+04\n",
       "mean   36913.000000   2005.618134  1.186849e+04  4.426138e+05\n",
       "std    21312.163499      4.957966  4.884827e+04  1.346706e+07\n",
       "min        0.000000   1997.000000  5.000000e-02  0.000000e+00\n",
       "25%    18456.500000   2002.000000  7.900000e+01  8.600000e+01\n",
       "50%    36913.000000   2006.000000  5.730000e+02  7.240000e+02\n",
       "75%    55369.500000   2010.000000  4.335000e+03  6.900000e+03\n",
       "max    73826.000000   2015.000000  4.205800e+06  1.001000e+09"
      ]
     },
     "execution_count": 5,
     "metadata": {},
     "output_type": "execute_result"
    }
   ],
   "source": [
    "df.describe()"
   ]
  },
  {
   "cell_type": "code",
   "execution_count": 6,
   "id": "ea933bda",
   "metadata": {},
   "outputs": [
    {
     "data": {
      "text/plain": [
       "(73827, 8)"
      ]
     },
     "execution_count": 6,
     "metadata": {},
     "output_type": "execute_result"
    }
   ],
   "source": [
    "df.shape"
   ]
  },
  {
   "cell_type": "code",
   "execution_count": 7,
   "id": "23ee06c7",
   "metadata": {},
   "outputs": [
    {
     "data": {
      "text/plain": [
       "Unnamed: 0          0\n",
       "State_Name          0\n",
       "District_Name       0\n",
       "Crop_Year           0\n",
       "Season              0\n",
       "Crop                0\n",
       "Area                0\n",
       "Production       1148\n",
       "dtype: int64"
      ]
     },
     "execution_count": 7,
     "metadata": {},
     "output_type": "execute_result"
    }
   ],
   "source": [
    "df.isnull().sum()"
   ]
  },
  {
   "cell_type": "code",
   "execution_count": 8,
   "id": "62309cb3",
   "metadata": {},
   "outputs": [],
   "source": [
    "df=df.dropna(axis=0)"
   ]
  },
  {
   "cell_type": "code",
   "execution_count": 10,
   "id": "e12b7886",
   "metadata": {},
   "outputs": [
    {
     "data": {
      "text/plain": [
       "Unnamed: 0       0\n",
       "State_Name       0\n",
       "District_Name    0\n",
       "Crop_Year        0\n",
       "Season           0\n",
       "Crop             0\n",
       "Area             0\n",
       "Production       0\n",
       "dtype: int64"
      ]
     },
     "execution_count": 10,
     "metadata": {},
     "output_type": "execute_result"
    }
   ],
   "source": [
    "df.isnull().sum()"
   ]
  },
  {
   "cell_type": "code",
   "execution_count": 11,
   "id": "7b8d1c2e",
   "metadata": {},
   "outputs": [
    {
     "data": {
      "text/html": [
       "<div>\n",
       "<style scoped>\n",
       "    .dataframe tbody tr th:only-of-type {\n",
       "        vertical-align: middle;\n",
       "    }\n",
       "\n",
       "    .dataframe tbody tr th {\n",
       "        vertical-align: top;\n",
       "    }\n",
       "\n",
       "    .dataframe thead th {\n",
       "        text-align: right;\n",
       "    }\n",
       "</style>\n",
       "<table border=\"1\" class=\"dataframe\">\n",
       "  <thead>\n",
       "    <tr style=\"text-align: right;\">\n",
       "      <th></th>\n",
       "      <th>Unnamed: 0</th>\n",
       "      <th>State_Name</th>\n",
       "      <th>District_Name</th>\n",
       "      <th>Crop_Year</th>\n",
       "      <th>Season</th>\n",
       "      <th>Crop</th>\n",
       "      <th>Area</th>\n",
       "      <th>Production</th>\n",
       "    </tr>\n",
       "  </thead>\n",
       "  <tbody>\n",
       "    <tr>\n",
       "      <th>0</th>\n",
       "      <td>0</td>\n",
       "      <td>Karnataka</td>\n",
       "      <td>UDUPI</td>\n",
       "      <td>2005</td>\n",
       "      <td>Rabi</td>\n",
       "      <td>Horse-gram</td>\n",
       "      <td>1122.0</td>\n",
       "      <td>836.0</td>\n",
       "    </tr>\n",
       "    <tr>\n",
       "      <th>1</th>\n",
       "      <td>1</td>\n",
       "      <td>Madhya Pradesh</td>\n",
       "      <td>GWALIOR</td>\n",
       "      <td>2003</td>\n",
       "      <td>Whole Year</td>\n",
       "      <td>Brinjal</td>\n",
       "      <td>194.0</td>\n",
       "      <td>0.0</td>\n",
       "    </tr>\n",
       "    <tr>\n",
       "      <th>2</th>\n",
       "      <td>2</td>\n",
       "      <td>Andhra Pradesh</td>\n",
       "      <td>CHITTOOR</td>\n",
       "      <td>2010</td>\n",
       "      <td>Rabi</td>\n",
       "      <td>Sesamum</td>\n",
       "      <td>334.0</td>\n",
       "      <td>118.0</td>\n",
       "    </tr>\n",
       "    <tr>\n",
       "      <th>3</th>\n",
       "      <td>3</td>\n",
       "      <td>Andhra Pradesh</td>\n",
       "      <td>KRISHNA</td>\n",
       "      <td>2014</td>\n",
       "      <td>Rabi</td>\n",
       "      <td>Tomato</td>\n",
       "      <td>538.0</td>\n",
       "      <td>7289.0</td>\n",
       "    </tr>\n",
       "    <tr>\n",
       "      <th>4</th>\n",
       "      <td>4</td>\n",
       "      <td>Uttar Pradesh</td>\n",
       "      <td>SULTANPUR</td>\n",
       "      <td>2011</td>\n",
       "      <td>Rabi</td>\n",
       "      <td>Coriander</td>\n",
       "      <td>59.0</td>\n",
       "      <td>33.0</td>\n",
       "    </tr>\n",
       "    <tr>\n",
       "      <th>...</th>\n",
       "      <td>...</td>\n",
       "      <td>...</td>\n",
       "      <td>...</td>\n",
       "      <td>...</td>\n",
       "      <td>...</td>\n",
       "      <td>...</td>\n",
       "      <td>...</td>\n",
       "      <td>...</td>\n",
       "    </tr>\n",
       "    <tr>\n",
       "      <th>73822</th>\n",
       "      <td>73822</td>\n",
       "      <td>Uttar Pradesh</td>\n",
       "      <td>SULTANPUR</td>\n",
       "      <td>2001</td>\n",
       "      <td>Rabi</td>\n",
       "      <td>Rapeseed &amp;Mustard</td>\n",
       "      <td>3727.0</td>\n",
       "      <td>3239.0</td>\n",
       "    </tr>\n",
       "    <tr>\n",
       "      <th>73823</th>\n",
       "      <td>73823</td>\n",
       "      <td>Chhattisgarh</td>\n",
       "      <td>DURG</td>\n",
       "      <td>2014</td>\n",
       "      <td>Rabi</td>\n",
       "      <td>Wheat</td>\n",
       "      <td>6364.0</td>\n",
       "      <td>7367.0</td>\n",
       "    </tr>\n",
       "    <tr>\n",
       "      <th>73824</th>\n",
       "      <td>73824</td>\n",
       "      <td>Uttar Pradesh</td>\n",
       "      <td>RAE BARELI</td>\n",
       "      <td>2010</td>\n",
       "      <td>Summer</td>\n",
       "      <td>Moong(Green Gram)</td>\n",
       "      <td>489.0</td>\n",
       "      <td>224.0</td>\n",
       "    </tr>\n",
       "    <tr>\n",
       "      <th>73825</th>\n",
       "      <td>73825</td>\n",
       "      <td>Assam</td>\n",
       "      <td>KAMRUP</td>\n",
       "      <td>1998</td>\n",
       "      <td>Rabi</td>\n",
       "      <td>Wheat</td>\n",
       "      <td>6431.0</td>\n",
       "      <td>6940.0</td>\n",
       "    </tr>\n",
       "    <tr>\n",
       "      <th>73826</th>\n",
       "      <td>73826</td>\n",
       "      <td>Andhra Pradesh</td>\n",
       "      <td>GUNTUR</td>\n",
       "      <td>2005</td>\n",
       "      <td>Rabi</td>\n",
       "      <td>Urad</td>\n",
       "      <td>100125.0</td>\n",
       "      <td>78298.0</td>\n",
       "    </tr>\n",
       "  </tbody>\n",
       "</table>\n",
       "<p>72679 rows × 8 columns</p>\n",
       "</div>"
      ],
      "text/plain": [
       "       Unnamed: 0      State_Name District_Name  Crop_Year       Season  \\\n",
       "0               0       Karnataka         UDUPI       2005  Rabi          \n",
       "1               1  Madhya Pradesh       GWALIOR       2003  Whole Year    \n",
       "2               2  Andhra Pradesh      CHITTOOR       2010  Rabi          \n",
       "3               3  Andhra Pradesh       KRISHNA       2014  Rabi          \n",
       "4               4   Uttar Pradesh     SULTANPUR       2011  Rabi          \n",
       "...           ...             ...           ...        ...          ...   \n",
       "73822       73822   Uttar Pradesh     SULTANPUR       2001  Rabi          \n",
       "73823       73823    Chhattisgarh          DURG       2014  Rabi          \n",
       "73824       73824   Uttar Pradesh    RAE BARELI       2010  Summer        \n",
       "73825       73825           Assam        KAMRUP       1998  Rabi          \n",
       "73826       73826  Andhra Pradesh        GUNTUR       2005  Rabi          \n",
       "\n",
       "                    Crop      Area  Production  \n",
       "0             Horse-gram    1122.0       836.0  \n",
       "1                Brinjal     194.0         0.0  \n",
       "2                Sesamum     334.0       118.0  \n",
       "3                 Tomato     538.0      7289.0  \n",
       "4              Coriander      59.0        33.0  \n",
       "...                  ...       ...         ...  \n",
       "73822  Rapeseed &Mustard    3727.0      3239.0  \n",
       "73823              Wheat    6364.0      7367.0  \n",
       "73824  Moong(Green Gram)     489.0       224.0  \n",
       "73825              Wheat    6431.0      6940.0  \n",
       "73826               Urad  100125.0     78298.0  \n",
       "\n",
       "[72679 rows x 8 columns]"
      ]
     },
     "execution_count": 11,
     "metadata": {},
     "output_type": "execute_result"
    }
   ],
   "source": [
    "df"
   ]
  },
  {
   "cell_type": "markdown",
   "id": "12abcc7b",
   "metadata": {},
   "source": [
    "#### 1) Which of these crops are produced during the Summer season? (select option with all that apply)\n",
    " ##### Arecanut, Arhar/Tur, Bajra, Castor seed\n",
    " ##### Paddy, Maize, Moong (Green Gram), Onion, Sunflower\n",
    " ##### Banana, Coriander, Gram, Rapeseed & Mustard\n",
    " ##### Rice, Sugarcane, Paddy, Tomato"
   ]
  },
  {
   "cell_type": "code",
   "execution_count": 22,
   "id": "5b17d856",
   "metadata": {},
   "outputs": [
    {
     "data": {
      "text/plain": [
       "Crop\n",
       "Other  Rabi pulses              3.0\n",
       "Small millets                  11.0\n",
       "Turmeric                       20.0\n",
       "Horse-gram                    287.6\n",
       "Brinjal                       552.0\n",
       "Total foodgrain               617.0\n",
       "Dry ginger                    860.0\n",
       "Cowpea(Lobia)                2511.0\n",
       "Arhar/Tur                    3198.0\n",
       "Sugarcane                    4570.0\n",
       "Tobacco                      5318.0\n",
       "Peas & beans (Pulses)       10066.0\n",
       "Cotton(lint)                10622.0\n",
       "Wheat                       17009.9\n",
       "Dry chillies                54145.0\n",
       "Jowar                       59373.0\n",
       "Ragi                       103252.8\n",
       "Urad                       107210.8\n",
       "Potato                     168904.0\n",
       "Sunflower                  170886.0\n",
       "Banana                     272080.0\n",
       "Onion                      596379.0\n",
       "Sesamum                    618864.8\n",
       "Moong(Green Gram)          735738.3\n",
       "Paddy                     1638436.0\n",
       "Bajra                     1779222.0\n",
       "Groundnut                 2083123.3\n",
       "Maize                     4840564.0\n",
       "Rice                     38709052.2\n",
       "Name: Production, dtype: float64"
      ]
     },
     "execution_count": 22,
     "metadata": {},
     "output_type": "execute_result"
    }
   ],
   "source": [
    "k=df[(df[\"Season\"]=='Summer     ')].groupby([\"Crop\"])['Production'].sum()\n",
    "k.sort_values()\n"
   ]
  },
  {
   "cell_type": "markdown",
   "id": "d7e4cb6c",
   "metadata": {},
   "source": [
    "#### 2) During which year did Haryana have the highest crop production?\n",
    " ##### 2013\n",
    " ##### 2011\n",
    " ##### 1997\n",
    " ##### 2008"
   ]
  },
  {
   "cell_type": "code",
   "execution_count": 55,
   "id": "9971dc6e",
   "metadata": {},
   "outputs": [
    {
     "data": {
      "text/plain": [
       "Crop_Year\n",
       "2008    9647100.0\n",
       "2005    9328300.0\n",
       "2011    9021300.0\n",
       "2003    8437562.0\n",
       "2012    7996416.0\n",
       "2002    7837700.0\n",
       "2004    7523400.0\n",
       "2007    7323500.0\n",
       "1999    7188901.0\n",
       "2001    7009900.0\n",
       "1998    6653600.0\n",
       "2006    6566600.0\n",
       "2000    5872800.0\n",
       "2010    5548900.0\n",
       "2009    5214480.0\n",
       "1997    3376800.0\n",
       "Name: Production, dtype: float64"
      ]
     },
     "execution_count": 55,
     "metadata": {},
     "output_type": "execute_result"
    }
   ],
   "source": [
    "df[df['State_Name']=='Haryana'].groupby(['Crop_Year'])['Production'].sum().sort_values(ascending=False)"
   ]
  },
  {
   "cell_type": "markdown",
   "id": "2387e38f",
   "metadata": {},
   "source": [
    "#### 3) The maximum and minimum area for production were in the years?\n",
    " ##### 1997 and 2014\n",
    " ##### 1998 and 2015\n",
    " ##### 1997 and 2015\n",
    " ##### 1999 and 2005"
   ]
  },
  {
   "cell_type": "code",
   "execution_count": 29,
   "id": "d599f4ce",
   "metadata": {},
   "outputs": [
    {
     "data": {
      "text/plain": [
       "Crop_Year\n",
       "2015     1313314.00\n",
       "2014    34188857.84\n",
       "2013    41895685.00\n",
       "2001    43603438.77\n",
       "2012    44369268.00\n",
       "2007    44971304.38\n",
       "2005    45296672.88\n",
       "2011    45835655.41\n",
       "2002    48328531.15\n",
       "2003    48954140.97\n",
       "1998    49317287.00\n",
       "2008    49604477.00\n",
       "2000    50530198.00\n",
       "2009    50772638.00\n",
       "2010    50813109.78\n",
       "2006    51393712.02\n",
       "1999    51841049.00\n",
       "2004    53445367.24\n",
       "1997    68245111.00\n",
       "Name: Area, dtype: float64"
      ]
     },
     "execution_count": 29,
     "metadata": {},
     "output_type": "execute_result"
    }
   ],
   "source": [
    "df.groupby(['Crop_Year'])['Area'].sum().sort_values()"
   ]
  },
  {
   "cell_type": "markdown",
   "id": "52e390be",
   "metadata": {},
   "source": [
    "#### 4) Which state in India had the second lowest crop production? (overall, for all years)\n",
    "#####  Meghalaya\n",
    " ##### Chandigarh\n",
    " ##### Mizoram\n",
    " ##### Manipur"
   ]
  },
  {
   "cell_type": "code",
   "execution_count": 30,
   "id": "73a62e9a",
   "metadata": {},
   "outputs": [
    {
     "data": {
      "text/plain": [
       "State_Name\n",
       "Chandigarh                     1.580450e+04\n",
       "Mizoram                        4.579428e+05\n",
       "Sikkim                         5.507250e+05\n",
       "Dadra and Nagar Haveli         6.247060e+05\n",
       "Manipur                        1.658617e+06\n",
       "Arunachal Pradesh              2.035912e+06\n",
       "Jharkhand                      3.319141e+06\n",
       "Meghalaya                      3.639914e+06\n",
       "Nagaland                       3.925012e+06\n",
       "Jammu and Kashmir              4.018134e+06\n",
       "Tripura                        4.278173e+06\n",
       "Himachal Pradesh               5.198802e+06\n",
       "Chhattisgarh                   3.132986e+07\n",
       "Uttarakhand                    4.017398e+07\n",
       "Odisha                         4.563306e+07\n",
       "Puducherry                     7.326832e+07\n",
       "Rajasthan                      8.671658e+07\n",
       "Haryana                        1.145473e+08\n",
       "Bihar                          1.151581e+08\n",
       "Telangana                      1.202722e+08\n",
       "Madhya Pradesh                 1.337226e+08\n",
       "Goa                            1.421826e+08\n",
       "Gujarat                        1.538659e+08\n",
       "Punjab                         1.724376e+08\n",
       "Andaman and Nicobar Islands    2.032759e+08\n",
       "Karnataka                      2.637879e+08\n",
       "Maharashtra                    3.930627e+08\n",
       "Assam                          5.201106e+08\n",
       "West Bengal                    5.327023e+08\n",
       "Uttar Pradesh                  1.069989e+09\n",
       "Tamil Nadu                     1.787126e+09\n",
       "Andhra Pradesh                 3.141848e+09\n",
       "Kerala                         2.299779e+10\n",
       "Name: Production, dtype: float64"
      ]
     },
     "execution_count": 30,
     "metadata": {},
     "output_type": "execute_result"
    }
   ],
   "source": [
    "df.groupby(['State_Name'])['Production'].sum().sort_values()"
   ]
  },
  {
   "cell_type": "markdown",
   "id": "0ade6d39",
   "metadata": {},
   "source": [
    "#### 5) What were the top three produced crops in the year 2012?\n",
    " ##### Wheat, Potato, Rice\n",
    " ##### Coconut, Potato, Sugarcane\n",
    " ##### Coconut, Sugarcane, Rice\n",
    " ##### Rice, Sugarcane, Maize"
   ]
  },
  {
   "cell_type": "code",
   "execution_count": 32,
   "id": "77658e5b",
   "metadata": {},
   "outputs": [
    {
     "data": {
      "text/plain": [
       "Crop\n",
       "Coconut           1.208299e+09\n",
       "Sugarcane         1.143474e+08\n",
       "Rice              3.371318e+07\n",
       "Wheat             2.448045e+07\n",
       "Potato            1.006466e+07\n",
       "                      ...     \n",
       "Pome Granet       8.720000e+02\n",
       "Blackgram         7.000000e+01\n",
       "Grapes            1.800000e+01\n",
       "Cardamom          1.200000e+01\n",
       "other oilseeds    1.000000e+00\n",
       "Name: Production, Length: 69, dtype: float64"
      ]
     },
     "execution_count": 32,
     "metadata": {},
     "output_type": "execute_result"
    }
   ],
   "source": [
    "df[df[\"Crop_Year\"]==2012].groupby([\"Crop\"])['Production'].sum().sort_values(ascending=False)"
   ]
  },
  {
   "cell_type": "markdown",
   "id": "2b91320e",
   "metadata": {},
   "source": [
    "#### 6) What is the standard deviation for Area of production?\n",
    "#####  52957.44 (approx.)\n",
    " ##### 12167.42 (approx.)\n",
    " ##### 49177.60 (approx.)\n",
    " ##### 48848.27 (approx.)"
   ]
  },
  {
   "cell_type": "code",
   "execution_count": 36,
   "id": "65f907eb",
   "metadata": {},
   "outputs": [
    {
     "data": {
      "text/plain": [
       "49177.60312712377"
      ]
     },
     "execution_count": 36,
     "metadata": {},
     "output_type": "execute_result"
    }
   ],
   "source": [
    "import statistics\n",
    "statistics.stdev(df['Area'])\n"
   ]
  },
  {
   "cell_type": "markdown",
   "id": "c774dd20",
   "metadata": {},
   "source": [
    "#### 7) Which is the crop that gave the highest production to the state of Andhra Pradesh?\n",
    " ##### Sugarcane\n",
    " ##### Wheat\n",
    " ##### Banana\n",
    " ##### Coconut"
   ]
  },
  {
   "cell_type": "code",
   "execution_count": 37,
   "id": "35848461",
   "metadata": {},
   "outputs": [
    {
     "data": {
      "text/plain": [
       "Crop\n",
       "Coconut              2.979218e+09\n",
       "Sugarcane            7.585185e+07\n",
       "Rice                 4.599650e+07\n",
       "Groundnut            5.430417e+06\n",
       "Maize                4.853811e+06\n",
       "                         ...     \n",
       "Cucumber             0.000000e+00\n",
       "Bottle Gourd         0.000000e+00\n",
       "Other Vegetables     0.000000e+00\n",
       "Peas  (vegetable)    0.000000e+00\n",
       "other fibres         0.000000e+00\n",
       "Name: Production, Length: 67, dtype: float64"
      ]
     },
     "execution_count": 37,
     "metadata": {},
     "output_type": "execute_result"
    }
   ],
   "source": [
    "df[df['State_Name']==\"Andhra Pradesh\"].groupby(['Crop'])['Production'].sum().sort_values(ascending=False)"
   ]
  },
  {
   "cell_type": "markdown",
   "id": "79f71737",
   "metadata": {},
   "source": [
    "#### 8) Which of the following statements is true? (Select all that applies)\n",
    "##### The overall production during the Kharif season is 2,029,970,000 (approx.)\n",
    "##### The overall production during the Summer season is 51,992,900 (approx.)\n",
    "##### The overall production during the Autumn season is 14,413,770 (approx.)\n",
    "##### The overall production during the Kharif season is 1,282,056,700 (approx.)"
   ]
  },
  {
   "cell_type": "code",
   "execution_count": 39,
   "id": "19529d60",
   "metadata": {},
   "outputs": [
    {
     "data": {
      "text/plain": [
       "51992876.699999996"
      ]
     },
     "execution_count": 39,
     "metadata": {},
     "output_type": "execute_result"
    }
   ],
   "source": [
    "df[df['Season']=='Summer     ']['Production'].sum()"
   ]
  },
  {
   "cell_type": "code",
   "execution_count": 40,
   "id": "5a0f63d6",
   "metadata": {},
   "outputs": [
    {
     "data": {
      "text/plain": [
       "18896594.060000002"
      ]
     },
     "execution_count": 40,
     "metadata": {},
     "output_type": "execute_result"
    }
   ],
   "source": [
    "df[df['Season']=='Autumn     ']['Production'].sum()"
   ]
  },
  {
   "cell_type": "code",
   "execution_count": 41,
   "id": "0508a376",
   "metadata": {},
   "outputs": [
    {
     "data": {
      "text/plain": [
       "1282056680.69"
      ]
     },
     "execution_count": 41,
     "metadata": {},
     "output_type": "execute_result"
    }
   ],
   "source": [
    "df[df['Season']=='Kharif     ']['Production'].sum()"
   ]
  },
  {
   "cell_type": "markdown",
   "id": "3eca8bad",
   "metadata": {},
   "source": [
    "#### 9) Which state has the lowest area of production?\n",
    "##### Puducherry\n",
    "##### Chandigarh\n",
    "##### Kerala\n",
    "##### Goa"
   ]
  },
  {
   "cell_type": "code",
   "execution_count": 42,
   "id": "eee9eeea",
   "metadata": {},
   "outputs": [
    {
     "data": {
      "text/plain": [
       "State_Name\n",
       "Chandigarh                     2.791000e+03\n",
       "Andaman and Nicobar Islands    8.531894e+04\n",
       "Dadra and Nagar Haveli         1.182820e+05\n",
       "Puducherry                     1.206340e+05\n",
       "Goa                            2.702040e+05\n",
       "Mizoram                        2.711313e+05\n",
       "Sikkim                         3.922050e+05\n",
       "Manipur                        6.121800e+05\n",
       "Meghalaya                      1.270237e+06\n",
       "Arunachal Pradesh              1.283609e+06\n",
       "Tripura                        1.605874e+06\n",
       "Nagaland                       1.800631e+06\n",
       "Jammu and Kashmir              2.744164e+06\n",
       "Jharkhand                      2.748473e+06\n",
       "Himachal Pradesh               2.897344e+06\n",
       "Uttarakhand                    5.714422e+06\n",
       "Kerala                         8.871677e+06\n",
       "Assam                          2.065623e+07\n",
       "Telangana                      2.225371e+07\n",
       "Chhattisgarh                   2.547540e+07\n",
       "Haryana                        2.756965e+07\n",
       "Tamil Nadu                     2.922639e+07\n",
       "Odisha                         3.132268e+07\n",
       "Punjab                         3.692255e+07\n",
       "Andhra Pradesh                 3.864198e+07\n",
       "Bihar                          3.881541e+07\n",
       "Gujarat                        4.835700e+07\n",
       "Karnataka                      5.735193e+07\n",
       "West Bengal                    6.637353e+07\n",
       "Rajasthan                      8.258156e+07\n",
       "Maharashtra                    9.356024e+07\n",
       "Madhya Pradesh                 9.968280e+07\n",
       "Uttar Pradesh                  1.251196e+08\n",
       "Name: Area, dtype: float64"
      ]
     },
     "execution_count": 42,
     "metadata": {},
     "output_type": "execute_result"
    }
   ],
   "source": [
    "df.groupby([\"State_Name\"])['Area'].sum().sort_values()"
   ]
  },
  {
   "cell_type": "markdown",
   "id": "78aa62f0",
   "metadata": {},
   "source": [
    "#### 10) What is the mean for the area of production?\n",
    " ##### 17065.81 (approx.)\n",
    " ##### 12035.39 (approx.)\n",
    " ##### 11868.49 (approx.)\n",
    " ##### 58250.34 (approx.)"
   ]
  },
  {
   "cell_type": "code",
   "execution_count": 43,
   "id": "448c33c9",
   "metadata": {},
   "outputs": [
    {
     "data": {
      "text/plain": [
       "12035.385977242398"
      ]
     },
     "execution_count": 43,
     "metadata": {},
     "output_type": "execute_result"
    }
   ],
   "source": [
    "df['Area'].mean()"
   ]
  },
  {
   "cell_type": "markdown",
   "id": "8e75ad52",
   "metadata": {},
   "source": [
    "#### 11) What is the correlation coefficient between Area and Production?\n",
    "##### 37.686\n",
    "##### 0.37686\n",
    "##### 3.7686\n",
    "##### 0.037686"
   ]
  },
  {
   "cell_type": "code",
   "execution_count": 45,
   "id": "5948dc8e",
   "metadata": {},
   "outputs": [
    {
     "data": {
      "text/html": [
       "<div>\n",
       "<style scoped>\n",
       "    .dataframe tbody tr th:only-of-type {\n",
       "        vertical-align: middle;\n",
       "    }\n",
       "\n",
       "    .dataframe tbody tr th {\n",
       "        vertical-align: top;\n",
       "    }\n",
       "\n",
       "    .dataframe thead th {\n",
       "        text-align: right;\n",
       "    }\n",
       "</style>\n",
       "<table border=\"1\" class=\"dataframe\">\n",
       "  <thead>\n",
       "    <tr style=\"text-align: right;\">\n",
       "      <th></th>\n",
       "      <th>Unnamed: 0</th>\n",
       "      <th>Crop_Year</th>\n",
       "      <th>Area</th>\n",
       "      <th>Production</th>\n",
       "    </tr>\n",
       "  </thead>\n",
       "  <tbody>\n",
       "    <tr>\n",
       "      <th>Unnamed: 0</th>\n",
       "      <td>1.000000</td>\n",
       "      <td>-0.007143</td>\n",
       "      <td>0.002912</td>\n",
       "      <td>0.002058</td>\n",
       "    </tr>\n",
       "    <tr>\n",
       "      <th>Crop_Year</th>\n",
       "      <td>-0.007143</td>\n",
       "      <td>1.000000</td>\n",
       "      <td>-0.025927</td>\n",
       "      <td>0.005928</td>\n",
       "    </tr>\n",
       "    <tr>\n",
       "      <th>Area</th>\n",
       "      <td>0.002912</td>\n",
       "      <td>-0.025927</td>\n",
       "      <td>1.000000</td>\n",
       "      <td>0.037686</td>\n",
       "    </tr>\n",
       "    <tr>\n",
       "      <th>Production</th>\n",
       "      <td>0.002058</td>\n",
       "      <td>0.005928</td>\n",
       "      <td>0.037686</td>\n",
       "      <td>1.000000</td>\n",
       "    </tr>\n",
       "  </tbody>\n",
       "</table>\n",
       "</div>"
      ],
      "text/plain": [
       "            Unnamed: 0  Crop_Year      Area  Production\n",
       "Unnamed: 0    1.000000  -0.007143  0.002912    0.002058\n",
       "Crop_Year    -0.007143   1.000000 -0.025927    0.005928\n",
       "Area          0.002912  -0.025927  1.000000    0.037686\n",
       "Production    0.002058   0.005928  0.037686    1.000000"
      ]
     },
     "execution_count": 45,
     "metadata": {},
     "output_type": "execute_result"
    }
   ],
   "source": [
    "df.corr()"
   ]
  },
  {
   "cell_type": "code",
   "execution_count": 46,
   "id": "cd6c8cc9",
   "metadata": {},
   "outputs": [
    {
     "data": {
      "text/plain": [
       "array([[1.      , 0.037686],\n",
       "       [0.037686, 1.      ]])"
      ]
     },
     "execution_count": 46,
     "metadata": {},
     "output_type": "execute_result"
    }
   ],
   "source": [
    "r=np.corrcoef(df['Area'],df['Production'])\n",
    "r"
   ]
  },
  {
   "cell_type": "markdown",
   "id": "2de2e38c",
   "metadata": {},
   "source": [
    "#### 12) The crops that had the highest production (in the correct order) were?\n",
    "##### Coconut, Sugarcane, Cucumber, Potato, Rice\n",
    "##### Gram, Jute, Soya bean, Maize, Cotton\n",
    "##### Coconut, Sugarcane, Rice, Wheat, Potato\n",
    "##### Sugarcane, Wheat, Soya bean, Potato, Coconut"
   ]
  },
  {
   "cell_type": "code",
   "execution_count": 48,
   "id": "f4e48216",
   "metadata": {},
   "outputs": [
    {
     "data": {
      "text/plain": [
       "Crop\n",
       "Coconut               2.870917e+10\n",
       "Sugarcane             1.769219e+09\n",
       "Rice                  4.744665e+08\n",
       "Wheat                 3.849682e+08\n",
       "Potato                1.250747e+08\n",
       "                          ...     \n",
       "Ber                   0.000000e+00\n",
       "Cucumber              0.000000e+00\n",
       "Pump Kin              0.000000e+00\n",
       "Other Citrus Fruit    0.000000e+00\n",
       "Apple                 0.000000e+00\n",
       "Name: Production, Length: 122, dtype: float64"
      ]
     },
     "execution_count": 48,
     "metadata": {},
     "output_type": "execute_result"
    }
   ],
   "source": [
    "df.groupby(['Crop'])['Production'].sum().sort_values(ascending=False)"
   ]
  },
  {
   "cell_type": "markdown",
   "id": "c62b3ada",
   "metadata": {},
   "source": [
    "#### 13) Which is the only crop that has the highest production during autumn, summer, and winter?\n",
    "##### Rice\n",
    "##### Maize\n",
    "##### Paddy\n",
    "##### Jute"
   ]
  },
  {
   "cell_type": "code",
   "execution_count": 49,
   "id": "2f0e29fa",
   "metadata": {},
   "outputs": [
    {
     "data": {
      "text/plain": [
       "Crop\n",
       "Rice                     38709052.2\n",
       "Maize                     4840564.0\n",
       "Groundnut                 2083123.3\n",
       "Bajra                     1779222.0\n",
       "Paddy                     1638436.0\n",
       "Moong(Green Gram)          735738.3\n",
       "Sesamum                    618864.8\n",
       "Onion                      596379.0\n",
       "Banana                     272080.0\n",
       "Sunflower                  170886.0\n",
       "Potato                     168904.0\n",
       "Urad                       107210.8\n",
       "Ragi                       103252.8\n",
       "Jowar                       59373.0\n",
       "Dry chillies                54145.0\n",
       "Wheat                       17009.9\n",
       "Cotton(lint)                10622.0\n",
       "Peas & beans (Pulses)       10066.0\n",
       "Tobacco                      5318.0\n",
       "Sugarcane                    4570.0\n",
       "Arhar/Tur                    3198.0\n",
       "Cowpea(Lobia)                2511.0\n",
       "Dry ginger                    860.0\n",
       "Total foodgrain               617.0\n",
       "Brinjal                       552.0\n",
       "Horse-gram                    287.6\n",
       "Turmeric                       20.0\n",
       "Small millets                  11.0\n",
       "Other  Rabi pulses              3.0\n",
       "Name: Production, dtype: float64"
      ]
     },
     "execution_count": 49,
     "metadata": {},
     "output_type": "execute_result"
    }
   ],
   "source": [
    "df[df['Season']=='Summer     '].groupby(['Crop'])['Production'].sum().sort_values(ascending=False)"
   ]
  },
  {
   "cell_type": "code",
   "execution_count": 50,
   "id": "7d0ee5c5",
   "metadata": {},
   "outputs": [
    {
     "data": {
      "text/plain": [
       "Crop\n",
       "Rice                     14820963.70\n",
       "Maize                     3089100.78\n",
       "Paddy                      521140.00\n",
       "Jute                       155210.90\n",
       "Ragi                       121504.38\n",
       "Groundnut                   97968.50\n",
       "Urad                        39608.00\n",
       "Moong(Green Gram)           24799.50\n",
       "Dry chillies                10513.00\n",
       "Sesamum                      5302.10\n",
       "Banana                       3980.00\n",
       "Arhar/Tur                    3937.00\n",
       "Sugarcane                    1291.20\n",
       "Small millets                 595.00\n",
       "Dry ginger                    360.00\n",
       "Tapioca                       130.00\n",
       "Potato                        100.00\n",
       "Peas & beans (Pulses)          50.00\n",
       "Onion                          20.00\n",
       "Turmeric                       20.00\n",
       "Name: Production, dtype: float64"
      ]
     },
     "execution_count": 50,
     "metadata": {},
     "output_type": "execute_result"
    }
   ],
   "source": [
    "df[df['Season']=='Autumn     '].groupby(['Crop'])['Production'].sum().sort_values(ascending=False)"
   ]
  },
  {
   "cell_type": "code",
   "execution_count": 51,
   "id": "2b5ea707",
   "metadata": {},
   "outputs": [
    {
     "data": {
      "text/plain": [
       "Crop\n",
       "Sugarcane          5.885822e+08\n",
       "Rice               2.807121e+08\n",
       "Cotton(lint)       9.283339e+07\n",
       "Jute               6.814935e+07\n",
       "Maize              5.985259e+07\n",
       "                       ...     \n",
       "Arecanut           2.190000e+02\n",
       "Black pepper       1.910000e+02\n",
       "Cond-spcs other    1.852000e+02\n",
       "Linseed            1.800000e+02\n",
       "Safflower          6.200000e+01\n",
       "Name: Production, Length: 80, dtype: float64"
      ]
     },
     "execution_count": 51,
     "metadata": {},
     "output_type": "execute_result"
    }
   ],
   "source": [
    "df[df['Season']=='Kharif     '].groupby(['Crop'])['Production'].sum().sort_values(ascending=False)"
   ]
  },
  {
   "cell_type": "code",
   "execution_count": 54,
   "id": "673c521a",
   "metadata": {},
   "outputs": [
    {
     "data": {
      "text/plain": [
       "Crop\n",
       "Rice                     1.113293e+08\n",
       "Potato                   8.277893e+06\n",
       "Sugarcane                4.839051e+06\n",
       "Paddy                    4.622613e+06\n",
       "Horse-gram               8.732610e+04\n",
       "Ragi                     8.064870e+04\n",
       "Urad                     7.479070e+04\n",
       "Moong(Green Gram)        6.656960e+04\n",
       "Sesamum                  3.270780e+04\n",
       "Arhar/Tur                1.260100e+04\n",
       "Groundnut                1.229040e+04\n",
       "Rapeseed &Mustard        9.776100e+03\n",
       "Banana                   8.770000e+03\n",
       "Maize                    3.129800e+03\n",
       "Wheat                    1.652000e+03\n",
       "Dry chillies             7.000000e+02\n",
       "Gram                     5.740000e+02\n",
       "Niger seed               3.015000e+02\n",
       "Peas & beans (Pulses)    1.100000e+02\n",
       "Sannhamp                 7.300000e+01\n",
       "Dry ginger               4.000000e+01\n",
       "Sweet potato             3.000000e+01\n",
       "Onion                    2.000000e+01\n",
       "Name: Production, dtype: float64"
      ]
     },
     "execution_count": 54,
     "metadata": {},
     "output_type": "execute_result"
    }
   ],
   "source": [
    "df[df['Season']=='Winter     '].groupby(['Crop'])['Production'].sum().sort_values(ascending=False)"
   ]
  },
  {
   "cell_type": "code",
   "execution_count": null,
   "id": "21760cb4",
   "metadata": {},
   "outputs": [],
   "source": []
  }
 ],
 "metadata": {
  "kernelspec": {
   "display_name": "Python 3 (ipykernel)",
   "language": "python",
   "name": "python3"
  },
  "language_info": {
   "codemirror_mode": {
    "name": "ipython",
    "version": 3
   },
   "file_extension": ".py",
   "mimetype": "text/x-python",
   "name": "python",
   "nbconvert_exporter": "python",
   "pygments_lexer": "ipython3",
   "version": "3.9.7"
  }
 },
 "nbformat": 4,
 "nbformat_minor": 5
}
